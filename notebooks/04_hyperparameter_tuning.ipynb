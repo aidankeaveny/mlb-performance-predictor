{
 "cells": [
  {
   "cell_type": "markdown",
   "id": "1c9f1aaa",
   "metadata": {},
   "source": [
    "## Hyperparameter Tuning for MLP (OPS Prediction)"
   ]
  },
  {
   "cell_type": "code",
   "execution_count": 9,
   "id": "4f576cd6",
   "metadata": {},
   "outputs": [],
   "source": [
    "# Imports\n",
    "import pandas as pd\n",
    "import numpy as np\n",
    "import torch\n",
    "import torch.nn as nn\n",
    "import torch.nn.functional as F\n",
    "from sklearn.model_selection import train_test_split\n",
    "from sklearn.preprocessing import StandardScaler\n",
    "from sklearn.metrics import mean_absolute_error, mean_squared_error\n",
    "import matplotlib.pyplot as plt\n",
    "from itertools import product\n",
    "from tqdm import tqdm\n"
   ]
  },
  {
   "cell_type": "code",
   "execution_count": 10,
   "id": "8dc4e62e",
   "metadata": {},
   "outputs": [],
   "source": [
    "# Load preprocessed dataset\n",
    "df = pd.read_csv('../data/processed_player_data.csv')\n",
    "\n",
    "features = df.columns.difference(['OPS_target']).tolist()\n",
    "target = 'OPS_target'\n",
    "\n",
    "X = df[features].fillna(0).values\n",
    "y = df[target].values\n",
    "\n",
    "scaler = StandardScaler()\n",
    "X_scaled = scaler.fit_transform(X)\n",
    "\n",
    "X_train, X_test, y_train, y_test = train_test_split(\n",
    "    X_scaled, y, test_size=0.2, random_state=42\n",
    ")\n",
    "\n",
    "X_train = torch.tensor(X_train, dtype=torch.float32)\n",
    "y_train = torch.tensor(y_train, dtype=torch.float32).view(-1, 1)\n",
    "X_test = torch.tensor(X_test, dtype=torch.float32)\n",
    "y_test = torch.tensor(y_test, dtype=torch.float32).view(-1, 1)\n"
   ]
  },
  {
   "cell_type": "code",
   "execution_count": 11,
   "id": "37c497f9",
   "metadata": {},
   "outputs": [],
   "source": [
    "# Define a flexible MLP model\n",
    "class PlayerMLP(nn.Module):\n",
    "    def __init__(self, input_dim, hidden_dims, dropout_rate):\n",
    "        super().__init__()\n",
    "        layers = []\n",
    "        last_dim = input_dim\n",
    "        for dim in hidden_dims:\n",
    "            layers.append(nn.Linear(last_dim, dim))\n",
    "            layers.append(nn.BatchNorm1d(dim))\n",
    "            layers.append(nn.ReLU())\n",
    "            layers.append(nn.Dropout(dropout_rate))\n",
    "            last_dim = dim\n",
    "        layers.append(nn.Linear(last_dim, 1))\n",
    "        self.model = nn.Sequential(*layers)\n",
    "\n",
    "    def forward(self, x):\n",
    "        return self.model(x)\n"
   ]
  },
  {
   "cell_type": "code",
   "execution_count": 12,
   "id": "450228f8",
   "metadata": {},
   "outputs": [
    {
     "name": "stdout",
     "output_type": "stream",
     "text": [
      "Total combinations: 800\n"
     ]
    }
   ],
   "source": [
    "# Define hyperparameter grid\n",
    "hidden_layer_options = [\n",
    "    [32],                  # very simple\n",
    "    [64, 32],              # small + 2 layers\n",
    "    [128, 64],             # medium + 2 layers\n",
    "    [128, 64, 32],         # medium deep\n",
    "    [256, 128, 64],        # large deep\n",
    "    [256, 128, 64, 32],    # larger/deeper\n",
    "    [512, 256],            # wide but shallow\n",
    "    [512, 256, 128],       # wide + deep\n",
    "    [512, 256, 128, 64],   # very expressive\n",
    "    [1024, 512, 256]       # very large (if you want to try big models)\n",
    "]\n",
    "dropout_options = [0.1, 0.2, 0.3, 0.4]\n",
    "lr_options = [0.01, 0.005, 0.001, 0.0005, 0.0001]\n",
    "batch_size_options = [16, 32, 64, 128]\n",
    "\n",
    "param_grid = list(product(hidden_layer_options, dropout_options, lr_options, batch_size_options))\n",
    "print(f\"Total combinations: {len(param_grid)}\")\n"
   ]
  },
  {
   "cell_type": "code",
   "execution_count": 13,
   "id": "da4223d2",
   "metadata": {},
   "outputs": [],
   "source": [
    "# Training function\n",
    "def train_model(hidden_dims, dropout_rate, lr, batch_size):\n",
    "    model = PlayerMLP(X_train.shape[1], hidden_dims, dropout_rate)\n",
    "    loss_fn = nn.MSELoss()\n",
    "    optimizer = torch.optim.Adam(model.parameters(), lr=lr)\n",
    "\n",
    "    for epoch in range(50):\n",
    "        model.train()\n",
    "        permutation = torch.randperm(X_train.size()[0])\n",
    "        for i in range(0, X_train.size()[0], batch_size):\n",
    "            indices = permutation[i:i+batch_size]\n",
    "            batch_x, batch_y = X_train[indices], y_train[indices]\n",
    "\n",
    "            optimizer.zero_grad()\n",
    "            output = model(batch_x)\n",
    "            loss = loss_fn(output, batch_y)\n",
    "            loss.backward()\n",
    "            optimizer.step()\n",
    "\n",
    "    model.eval()\n",
    "    with torch.no_grad():\n",
    "        y_pred = model(X_test).numpy().flatten()\n",
    "        y_true = y_test.numpy().flatten()\n",
    "        mae = mean_absolute_error(y_true, y_pred)\n",
    "        rmse = mean_squared_error(y_true, y_pred) ** 0.5\n",
    "\n",
    "    return mae, rmse\n"
   ]
  },
  {
   "cell_type": "code",
   "execution_count": 14,
   "id": "ccbfb936",
   "metadata": {},
   "outputs": [
    {
     "name": "stderr",
     "output_type": "stream",
     "text": [
      "100%|██████████| 800/800 [02:51<00:00,  4.67it/s]\n"
     ]
    },
    {
     "data": {
      "text/html": [
       "<div>\n",
       "<style scoped>\n",
       "    .dataframe tbody tr th:only-of-type {\n",
       "        vertical-align: middle;\n",
       "    }\n",
       "\n",
       "    .dataframe tbody tr th {\n",
       "        vertical-align: top;\n",
       "    }\n",
       "\n",
       "    .dataframe thead th {\n",
       "        text-align: right;\n",
       "    }\n",
       "</style>\n",
       "<table border=\"1\" class=\"dataframe\">\n",
       "  <thead>\n",
       "    <tr style=\"text-align: right;\">\n",
       "      <th></th>\n",
       "      <th>hidden_dims</th>\n",
       "      <th>dropout</th>\n",
       "      <th>lr</th>\n",
       "      <th>batch_size</th>\n",
       "      <th>mae</th>\n",
       "      <th>rmse</th>\n",
       "    </tr>\n",
       "  </thead>\n",
       "  <tbody>\n",
       "    <tr>\n",
       "      <th>40</th>\n",
       "      <td>[32]</td>\n",
       "      <td>0.3</td>\n",
       "      <td>0.01</td>\n",
       "      <td>16</td>\n",
       "      <td>0.015753</td>\n",
       "      <td>0.019159</td>\n",
       "    </tr>\n",
       "    <tr>\n",
       "      <th>380</th>\n",
       "      <td>[256, 128, 64]</td>\n",
       "      <td>0.4</td>\n",
       "      <td>0.01</td>\n",
       "      <td>16</td>\n",
       "      <td>0.017329</td>\n",
       "      <td>0.024747</td>\n",
       "    </tr>\n",
       "    <tr>\n",
       "      <th>200</th>\n",
       "      <td>[128, 64]</td>\n",
       "      <td>0.3</td>\n",
       "      <td>0.01</td>\n",
       "      <td>16</td>\n",
       "      <td>0.019661</td>\n",
       "      <td>0.025532</td>\n",
       "    </tr>\n",
       "    <tr>\n",
       "      <th>420</th>\n",
       "      <td>[256, 128, 64, 32]</td>\n",
       "      <td>0.2</td>\n",
       "      <td>0.01</td>\n",
       "      <td>16</td>\n",
       "      <td>0.019193</td>\n",
       "      <td>0.025747</td>\n",
       "    </tr>\n",
       "    <tr>\n",
       "      <th>280</th>\n",
       "      <td>[128, 64, 32]</td>\n",
       "      <td>0.3</td>\n",
       "      <td>0.01</td>\n",
       "      <td>16</td>\n",
       "      <td>0.020477</td>\n",
       "      <td>0.027149</td>\n",
       "    </tr>\n",
       "  </tbody>\n",
       "</table>\n",
       "</div>"
      ],
      "text/plain": [
       "            hidden_dims  dropout    lr  batch_size       mae      rmse\n",
       "40                 [32]      0.3  0.01          16  0.015753  0.019159\n",
       "380      [256, 128, 64]      0.4  0.01          16  0.017329  0.024747\n",
       "200           [128, 64]      0.3  0.01          16  0.019661  0.025532\n",
       "420  [256, 128, 64, 32]      0.2  0.01          16  0.019193  0.025747\n",
       "280       [128, 64, 32]      0.3  0.01          16  0.020477  0.027149"
      ]
     },
     "execution_count": 14,
     "metadata": {},
     "output_type": "execute_result"
    }
   ],
   "source": [
    "# Run tuning with progress bar\n",
    "results = []\n",
    "\n",
    "for hidden_dims, dropout, lr, batch_size in tqdm(param_grid):\n",
    "    mae, rmse = train_model(hidden_dims, dropout, lr, batch_size)\n",
    "    results.append({\n",
    "        'hidden_dims': hidden_dims,\n",
    "        'dropout': dropout,\n",
    "        'lr': lr,\n",
    "        'batch_size': batch_size,\n",
    "        'mae': mae,\n",
    "        'rmse': rmse\n",
    "    })\n",
    "\n",
    "results_df = pd.DataFrame(results)\n",
    "results_df = results_df.sort_values(by='rmse')\n",
    "results_df.to_csv('../output/hyperparameter_results.csv', index=False)\n",
    "results_df.head()\n"
   ]
  }
 ],
 "metadata": {
  "kernelspec": {
   "display_name": ".venv",
   "language": "python",
   "name": "python3"
  },
  "language_info": {
   "codemirror_mode": {
    "name": "ipython",
    "version": 3
   },
   "file_extension": ".py",
   "mimetype": "text/x-python",
   "name": "python",
   "nbconvert_exporter": "python",
   "pygments_lexer": "ipython3",
   "version": "3.10.16"
  }
 },
 "nbformat": 4,
 "nbformat_minor": 5
}
