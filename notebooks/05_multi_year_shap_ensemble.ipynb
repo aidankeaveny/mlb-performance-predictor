{
 "cells": [
  {
   "cell_type": "markdown",
   "id": "a363ad34",
   "metadata": {},
   "source": [
    "## Multi-Year MLP with SHAP, Permutation Importance, and Ensembling"
   ]
  },
  {
   "cell_type": "code",
   "execution_count": 4,
   "id": "49c0b95b",
   "metadata": {},
   "outputs": [],
   "source": [
    "# Imports\n",
    "import pandas as pd\n",
    "import numpy as np\n",
    "import torch\n",
    "import torch.nn as nn\n",
    "import torch.nn.functional as F\n",
    "from sklearn.model_selection import train_test_split\n",
    "from sklearn.preprocessing import StandardScaler\n",
    "from sklearn.metrics import mean_absolute_error, mean_squared_error\n",
    "from sklearn.inspection import permutation_importance\n",
    "import shap\n",
    "import matplotlib.pyplot as plt\n",
    "from tqdm import tqdm\n",
    "from pybaseball import batting_stats\n",
    "import warnings\n",
    "warnings.filterwarnings('ignore')\n"
   ]
  },
  {
   "cell_type": "markdown",
   "id": "a410c34a",
   "metadata": {},
   "source": [
    "### Step 1: Build Multi-Year Dataset"
   ]
  },
  {
   "cell_type": "code",
   "execution_count": 5,
   "id": "512dac70",
   "metadata": {},
   "outputs": [
    {
     "name": "stdout",
     "output_type": "stream",
     "text": [
      "Total samples: 1604\n"
     ]
    }
   ],
   "source": [
    "# Combine stats from multiple prior years to predict next year's OPS\n",
    "combined_data = []\n",
    "\n",
    "for year in range(2000, 2024):  # requires year-2, year-1, year for prediction\n",
    "    try:\n",
    "        df_y2 = batting_stats(year - 2)\n",
    "        df_y1 = batting_stats(year - 1)\n",
    "        df_y = batting_stats(year)\n",
    "        \n",
    "        df_y2 = df_y2.add_suffix('_y2')\n",
    "        df_y1 = df_y1.add_suffix('_y1')\n",
    "        df_y = df_y.add_suffix('_y')\n",
    "        \n",
    "        merged = pd.merge(df_y2, df_y1, left_on='Name_y2', right_on='Name_y1')\n",
    "        merged = pd.merge(merged, df_y, left_on='Name_y1', right_on='Name_y')\n",
    "        \n",
    "        merged['Name'] = merged['Name_y']\n",
    "        merged['Season'] = year\n",
    "        merged['OPS_target'] = merged['OPS_y']\n",
    "        \n",
    "        combined_data.append(merged)\n",
    "    except Exception as e:\n",
    "        print(f\"Skipping year {year} due to error: {e}\")\n",
    "\n",
    "df = pd.concat(combined_data).reset_index(drop=True)\n",
    "print(\"Total samples:\", len(df))\n"
   ]
  },
  {
   "cell_type": "code",
   "execution_count": 6,
   "id": "b29f8c4a",
   "metadata": {},
   "outputs": [],
   "source": [
    "# Select relevant features from each year\n",
    "features_y2 = ['OBP_y2', 'SLG_y2', 'HR_y2', 'BB%_y2', 'K%_y2', 'ISO_y2']\n",
    "features_y1 = ['OBP_y1', 'SLG_y1', 'HR_y1', 'BB%_y1', 'K%_y1', 'ISO_y1']\n",
    "features_y = ['OBP_y', 'SLG_y', 'HR_y', 'BB%_y', 'K%_y', 'ISO_y']\n",
    "features = features_y2 + features_y1 + features_y\n",
    "\n",
    "df = df[features + ['OPS_target']].dropna()\n"
   ]
  },
  {
   "cell_type": "markdown",
   "id": "978f5b20",
   "metadata": {},
   "source": [
    "### Step 2: Train 3 MLPs for Ensembling"
   ]
  },
  {
   "cell_type": "code",
   "execution_count": 7,
   "id": "792bbf31",
   "metadata": {},
   "outputs": [],
   "source": [
    "# Prepare data\n",
    "X = df[features].values\n",
    "y = df['OPS_target'].values\n",
    "\n",
    "scaler = StandardScaler()\n",
    "X_scaled = scaler.fit_transform(X)\n",
    "\n",
    "X_train, X_test, y_train, y_test = train_test_split(\n",
    "    X_scaled, y, test_size=0.2, random_state=42\n",
    ")\n",
    "\n",
    "X_train = torch.tensor(X_train, dtype=torch.float32)\n",
    "y_train = torch.tensor(y_train, dtype=torch.float32).view(-1, 1)\n",
    "X_test = torch.tensor(X_test, dtype=torch.float32)\n",
    "y_test = torch.tensor(y_test, dtype=torch.float32).view(-1, 1)\n"
   ]
  },
  {
   "cell_type": "code",
   "execution_count": 8,
   "id": "ef08a001",
   "metadata": {},
   "outputs": [],
   "source": [
    "# MLP definition\n",
    "class PlayerMLP(nn.Module):\n",
    "    def __init__(self, input_dim, hidden_dims):\n",
    "        super().__init__()\n",
    "        layers = []\n",
    "        last_dim = input_dim\n",
    "        for dim in hidden_dims:\n",
    "            layers.append(nn.Linear(last_dim, dim))\n",
    "            layers.append(nn.ReLU())\n",
    "            last_dim = dim\n",
    "        layers.append(nn.Linear(last_dim, 1))\n",
    "        self.model = nn.Sequential(*layers)\n",
    "    def forward(self, x):\n",
    "        return self.model(x)\n"
   ]
  },
  {
   "cell_type": "code",
   "execution_count": 9,
   "id": "d20a9fd6",
   "metadata": {},
   "outputs": [],
   "source": [
    "# Train function\n",
    "def train_mlp(hidden_dims):\n",
    "    model = PlayerMLP(X_train.shape[1], hidden_dims)\n",
    "    optimizer = torch.optim.Adam(model.parameters(), lr=0.001)\n",
    "    loss_fn = nn.MSELoss()\n",
    "\n",
    "    for epoch in range(100):\n",
    "        model.train()\n",
    "        optimizer.zero_grad()\n",
    "        pred = model(X_train)\n",
    "        loss = loss_fn(pred, y_train)\n",
    "        loss.backward()\n",
    "        optimizer.step()\n",
    "    \n",
    "    return model\n"
   ]
  },
  {
   "cell_type": "code",
   "execution_count": 10,
   "id": "d0238062",
   "metadata": {},
   "outputs": [],
   "source": [
    "# Train 3 models\n",
    "model1 = train_mlp([64, 32])\n",
    "model2 = train_mlp([128, 64, 32])\n",
    "model3 = train_mlp([256, 128, 64])\n",
    "\n",
    "models = [model1, model2, model3]\n"
   ]
  },
  {
   "cell_type": "code",
   "execution_count": 13,
   "id": "b6055a02",
   "metadata": {},
   "outputs": [
    {
     "name": "stdout",
     "output_type": "stream",
     "text": [
      "Ensemble MAE: 0.0644\n",
      "Ensemble RMSE: 0.0840\n"
     ]
    }
   ],
   "source": [
    "# Ensemble predictions\n",
    "with torch.no_grad():\n",
    "    preds = [model(X_test).numpy().flatten() for model in models]\n",
    "    y_pred_ensemble = np.mean(preds, axis=0)\n",
    "    y_true = y_test.numpy().flatten()\n",
    "\n",
    "mae = mean_absolute_error(y_true, y_pred_ensemble)\n",
    "rmse = mean_squared_error(y_true, y_pred_ensemble) ** 0.5\n",
    "\n",
    "print(f\"Ensemble MAE: {mae:.4f}\")\n",
    "print(f\"Ensemble RMSE: {rmse:.4f}\")\n"
   ]
  },
  {
   "cell_type": "markdown",
   "id": "16cfd39d",
   "metadata": {},
   "source": [
    "### Step 3: Interpretability with Permutation Importance"
   ]
  },
  {
   "cell_type": "code",
   "execution_count": 14,
   "id": "73298548",
   "metadata": {},
   "outputs": [
    {
     "data": {
      "image/png": "[encoded data removed]",
      "text/plain": [
       "<Figure size 640x480 with 1 Axes>"
      ]
     },
     "metadata": {},
     "output_type": "display_data"
    }
   ],
   "source": [
    "# Permutation Importance using sklearn\n",
    "from sklearn.linear_model import LinearRegression\n",
    "\n",
    "lr_model = LinearRegression().fit(X_train.numpy(), y_train.numpy().flatten())\n",
    "result = permutation_importance(\n",
    "    lr_model, X_test.numpy(), y_test.numpy().flatten(), n_repeats=10, random_state=42\n",
    ")\n",
    "\n",
    "sorted_idx = result.importances_mean.argsort()[::-1]\n",
    "plt.barh(np.array(features)[sorted_idx], result.importances_mean[sorted_idx])\n",
    "plt.title(\"Permutation Importance\")\n",
    "plt.xlabel(\"Mean Decrease in R^2\")\n",
    "plt.gca().invert_yaxis()\n",
    "plt.show()\n"
   ]
  },
  {
   "cell_type": "markdown",
   "id": "23d9e780",
   "metadata": {},
   "source": [
    "### Step 4: SHAP Values"
   ]
  },
  {
   "cell_type": "code",
   "execution_count": null,
   "id": "2e716c11",
   "metadata": {},
   "outputs": [
    {
     "ename": "TypingError",
     "evalue": "Failed in nopython mode pipeline (step: nopython frontend)\nnon-precise type pyobject\nDuring: typing of argument at /Users/ak11/Desktop/Miscellaneous/Projects/baseball/mlb-performance-predictor/.venv/lib/python3.11/site-packages/shap/maskers/_tabular.py (203)\n\nFile \"../.venv/lib/python3.11/site-packages/shap/maskers/_tabular.py\", line 203:\ndef _single_delta_mask(dind, masked_inputs, last_mask, data, x, noop_code):\n    <source elided>\n\n@njit\n^\n\nDuring: Pass nopython_type_inference \n\nThis error may have been caused by the following argument(s):\n- argument 1: Cannot determine Numba type of <class 'torch.Tensor'>\n",
     "output_type": "error",
     "traceback": [
      "\u001b[31m---------------------------------------------------------------------------\u001b[39m",
      "\u001b[31mTypingError\u001b[39m                               Traceback (most recent call last)",
      "\u001b[36mCell\u001b[39m\u001b[36m \u001b[39m\u001b[32mIn[16]\u001b[39m\u001b[32m, line 3\u001b[39m\n\u001b[32m      1\u001b[39m \u001b[38;5;66;03m# SHAP values\u001b[39;00m\n\u001b[32m      2\u001b[39m explainer = shap.Explainer(models[\u001b[32m0\u001b[39m], X_test.numpy())\n\u001b[32m----> \u001b[39m\u001b[32m3\u001b[39m shap_values = \u001b[43mexplainer\u001b[49m\u001b[43m(\u001b[49m\u001b[43mX_test\u001b[49m\u001b[43m)\u001b[49m\n\u001b[32m      5\u001b[39m shap.plots.beeswarm(shap_values)\n",
      "\u001b[36mFile \u001b[39m\u001b[32m~/Desktop/Miscellaneous/Projects/baseball/mlb-performance-predictor/.venv/lib/python3.11/site-packages/shap/explainers/_permutation.py:100\u001b[39m, in \u001b[36mPermutationExplainer.__call__\u001b[39m\u001b[34m(self, max_evals, main_effects, error_bounds, batch_size, outputs, silent, *args)\u001b[39m\n\u001b[32m     89\u001b[39m \u001b[38;5;28;01mdef\u001b[39;00m\u001b[38;5;250m \u001b[39m\u001b[34m__call__\u001b[39m(\n\u001b[32m     90\u001b[39m     \u001b[38;5;28mself\u001b[39m,\n\u001b[32m     91\u001b[39m     *args,\n\u001b[32m   (...)\u001b[39m\u001b[32m     97\u001b[39m     silent=\u001b[38;5;28;01mFalse\u001b[39;00m,\n\u001b[32m     98\u001b[39m ):\n\u001b[32m     99\u001b[39m \u001b[38;5;250m    \u001b[39m\u001b[33;03m\"\"\"Explain the output of the model on the given arguments.\"\"\"\u001b[39;00m\n\u001b[32m--> \u001b[39m\u001b[32m100\u001b[39m     \u001b[38;5;28;01mreturn\u001b[39;00m \u001b[38;5;28;43msuper\u001b[39;49m\u001b[43m(\u001b[49m\u001b[43m)\u001b[49m\u001b[43m.\u001b[49m\u001b[34;43m__call__\u001b[39;49m\u001b[43m(\u001b[49m\n\u001b[32m    101\u001b[39m \u001b[43m        \u001b[49m\u001b[43m*\u001b[49m\u001b[43margs\u001b[49m\u001b[43m,\u001b[49m\n\u001b[32m    102\u001b[39m \u001b[43m        \u001b[49m\u001b[43mmax_evals\u001b[49m\u001b[43m=\u001b[49m\u001b[43mmax_evals\u001b[49m\u001b[43m,\u001b[49m\n\u001b[32m    103\u001b[39m \u001b[43m        \u001b[49m\u001b[43mmain_effects\u001b[49m\u001b[43m=\u001b[49m\u001b[43mmain_effects\u001b[49m\u001b[43m,\u001b[49m\n\u001b[32m    104\u001b[39m \u001b[43m        \u001b[49m\u001b[43merror_bounds\u001b[49m\u001b[43m=\u001b[49m\u001b[43merror_bounds\u001b[49m\u001b[43m,\u001b[49m\n\u001b[32m    105\u001b[39m \u001b[43m        \u001b[49m\u001b[43mbatch_size\u001b[49m\u001b[43m=\u001b[49m\u001b[43mbatch_size\u001b[49m\u001b[43m,\u001b[49m\n\u001b[32m    106\u001b[39m \u001b[43m        \u001b[49m\u001b[43moutputs\u001b[49m\u001b[43m=\u001b[49m\u001b[43moutputs\u001b[49m\u001b[43m,\u001b[49m\n\u001b[32m    107\u001b[39m \u001b[43m        \u001b[49m\u001b[43msilent\u001b[49m\u001b[43m=\u001b[49m\u001b[43msilent\u001b[49m\u001b[43m,\u001b[49m\n\u001b[32m    108\u001b[39m \u001b[43m    \u001b[49m\u001b[43m)\u001b[49m\n",
      "\u001b[36mFile \u001b[39m\u001b[32m~/Desktop/Miscellaneous/Projects/baseball/mlb-performance-predictor/.venv/lib/python3.11/site-packages/shap/explainers/_explainer.py:366\u001b[39m, in \u001b[36mExplainer.__call__\u001b[39m\u001b[34m(self, max_evals, main_effects, error_bounds, batch_size, outputs, silent, *args, **kwargs)\u001b[39m\n\u001b[32m    364\u001b[39m     feature_names = [[] \u001b[38;5;28;01mfor\u001b[39;00m _ \u001b[38;5;129;01min\u001b[39;00m \u001b[38;5;28mrange\u001b[39m(\u001b[38;5;28mlen\u001b[39m(args))]\n\u001b[32m    365\u001b[39m \u001b[38;5;28;01mfor\u001b[39;00m row_args \u001b[38;5;129;01min\u001b[39;00m show_progress(\u001b[38;5;28mzip\u001b[39m(*args), num_rows, \u001b[38;5;28mself\u001b[39m.\u001b[34m__class__\u001b[39m.\u001b[34m__name__\u001b[39m + \u001b[33m\"\u001b[39m\u001b[33m explainer\u001b[39m\u001b[33m\"\u001b[39m, silent):\n\u001b[32m--> \u001b[39m\u001b[32m366\u001b[39m     row_result = \u001b[38;5;28;43mself\u001b[39;49m\u001b[43m.\u001b[49m\u001b[43mexplain_row\u001b[49m\u001b[43m(\u001b[49m\n\u001b[32m    367\u001b[39m \u001b[43m        \u001b[49m\u001b[43m*\u001b[49m\u001b[43mrow_args\u001b[49m\u001b[43m,\u001b[49m\n\u001b[32m    368\u001b[39m \u001b[43m        \u001b[49m\u001b[43mmax_evals\u001b[49m\u001b[43m=\u001b[49m\u001b[43mmax_evals\u001b[49m\u001b[43m,\u001b[49m\n\u001b[32m    369\u001b[39m \u001b[43m        \u001b[49m\u001b[43mmain_effects\u001b[49m\u001b[43m=\u001b[49m\u001b[43mmain_effects\u001b[49m\u001b[43m,\u001b[49m\n\u001b[32m    370\u001b[39m \u001b[43m        \u001b[49m\u001b[43merror_bounds\u001b[49m\u001b[43m=\u001b[49m\u001b[43merror_bounds\u001b[49m\u001b[43m,\u001b[49m\n\u001b[32m    371\u001b[39m \u001b[43m        \u001b[49m\u001b[43mbatch_size\u001b[49m\u001b[43m=\u001b[49m\u001b[43mbatch_size\u001b[49m\u001b[43m,\u001b[49m\n\u001b[32m    372\u001b[39m \u001b[43m        \u001b[49m\u001b[43moutputs\u001b[49m\u001b[43m=\u001b[49m\u001b[43moutputs\u001b[49m\u001b[43m,\u001b[49m\n\u001b[32m    373\u001b[39m \u001b[43m        \u001b[49m\u001b[43msilent\u001b[49m\u001b[43m=\u001b[49m\u001b[43msilent\u001b[49m\u001b[43m,\u001b[49m\n\u001b[32m    374\u001b[39m \u001b[43m        \u001b[49m\u001b[43m*\u001b[49m\u001b[43m*\u001b[49m\u001b[43mkwargs\u001b[49m\u001b[43m,\u001b[49m\n\u001b[32m    375\u001b[39m \u001b[43m    \u001b[49m\u001b[43m)\u001b[49m\n\u001b[32m    376\u001b[39m     values.append(row_result.get(\u001b[33m\"\u001b[39m\u001b[33mvalues\u001b[39m\u001b[33m\"\u001b[39m, \u001b[38;5;28;01mNone\u001b[39;00m))\n\u001b[32m    377\u001b[39m     output_indices.append(row_result.get(\u001b[33m\"\u001b[39m\u001b[33moutput_indices\u001b[39m\u001b[33m\"\u001b[39m, \u001b[38;5;28;01mNone\u001b[39;00m))\n",
      "\u001b[36mFile \u001b[39m\u001b[32m~/Desktop/Miscellaneous/Projects/baseball/mlb-performance-predictor/.venv/lib/python3.11/site-packages/shap/explainers/_permutation.py:162\u001b[39m, in \u001b[36mPermutationExplainer.explain_row\u001b[39m\u001b[34m(self, max_evals, main_effects, error_bounds, batch_size, outputs, silent, *row_args)\u001b[39m\n\u001b[32m    159\u001b[39m     i += \u001b[32m1\u001b[39m\n\u001b[32m    161\u001b[39m \u001b[38;5;66;03m# evaluate the masked model\u001b[39;00m\n\u001b[32m--> \u001b[39m\u001b[32m162\u001b[39m outputs = \u001b[43mfm\u001b[49m\u001b[43m(\u001b[49m\u001b[43mmasks\u001b[49m\u001b[43m,\u001b[49m\u001b[43m \u001b[49m\u001b[43mzero_index\u001b[49m\u001b[43m=\u001b[49m\u001b[32;43m0\u001b[39;49m\u001b[43m,\u001b[49m\u001b[43m \u001b[49m\u001b[43mbatch_size\u001b[49m\u001b[43m=\u001b[49m\u001b[43mbatch_size\u001b[49m\u001b[43m)\u001b[49m\n\u001b[32m    164\u001b[39m \u001b[38;5;28;01mif\u001b[39;00m row_values \u001b[38;5;129;01mis\u001b[39;00m \u001b[38;5;28;01mNone\u001b[39;00m:\n\u001b[32m    165\u001b[39m     row_values = np.zeros((\u001b[38;5;28mlen\u001b[39m(fm),) + outputs.shape[\u001b[32m1\u001b[39m:])\n",
      "\u001b[36mFile \u001b[39m\u001b[32m~/Desktop/Miscellaneous/Projects/baseball/mlb-performance-predictor/.venv/lib/python3.11/site-packages/shap/utils/_masked_model.py:57\u001b[39m, in \u001b[36mMaskedModel.__call__\u001b[39m\u001b[34m(self, masks, zero_index, batch_size)\u001b[39m\n\u001b[32m     55\u001b[39m \u001b[38;5;28;01mif\u001b[39;00m \u001b[38;5;28mlen\u001b[39m(masks.shape) == \u001b[32m1\u001b[39m:\n\u001b[32m     56\u001b[39m     \u001b[38;5;28;01mif\u001b[39;00m \u001b[38;5;28mgetattr\u001b[39m(\u001b[38;5;28mself\u001b[39m.masker, \u001b[33m\"\u001b[39m\u001b[33msupports_delta_masking\u001b[39m\u001b[33m\"\u001b[39m, \u001b[38;5;28;01mFalse\u001b[39;00m):\n\u001b[32m---> \u001b[39m\u001b[32m57\u001b[39m         \u001b[38;5;28;01mreturn\u001b[39;00m \u001b[38;5;28;43mself\u001b[39;49m\u001b[43m.\u001b[49m\u001b[43m_delta_masking_call\u001b[49m\u001b[43m(\u001b[49m\u001b[43mmasks\u001b[49m\u001b[43m,\u001b[49m\u001b[43m \u001b[49m\u001b[43mzero_index\u001b[49m\u001b[43m=\u001b[49m\u001b[43mzero_index\u001b[49m\u001b[43m,\u001b[49m\u001b[43m \u001b[49m\u001b[43mbatch_size\u001b[49m\u001b[43m=\u001b[49m\u001b[43mbatch_size\u001b[49m\u001b[43m)\u001b[49m\n\u001b[32m     59\u001b[39m     \u001b[38;5;66;03m# we need to convert from delta masking to a full masking call because we were given a delta masking\u001b[39;00m\n\u001b[32m     60\u001b[39m     \u001b[38;5;66;03m# input but the masker does not support delta masking\u001b[39;00m\n\u001b[32m     61\u001b[39m     \u001b[38;5;28;01melse\u001b[39;00m:\n\u001b[32m     62\u001b[39m         full_masks = np.zeros((\u001b[38;5;28mint\u001b[39m(np.sum(masks >= \u001b[32m0\u001b[39m)), \u001b[38;5;28mself\u001b[39m._masker_cols), dtype=\u001b[38;5;28mbool\u001b[39m)\n",
      "\u001b[36mFile \u001b[39m\u001b[32m~/Desktop/Miscellaneous/Projects/baseball/mlb-performance-predictor/.venv/lib/python3.11/site-packages/shap/utils/_masked_model.py:199\u001b[39m, in \u001b[36mMaskedModel._delta_masking_call\u001b[39m\u001b[34m(self, masks, zero_index, batch_size)\u001b[39m\n\u001b[32m    194\u001b[39m \u001b[38;5;28;01mdef\u001b[39;00m\u001b[38;5;250m \u001b[39m\u001b[34m_delta_masking_call\u001b[39m(\u001b[38;5;28mself\u001b[39m, masks, zero_index=\u001b[38;5;28;01mNone\u001b[39;00m, batch_size=\u001b[38;5;28;01mNone\u001b[39;00m):\n\u001b[32m    195\u001b[39m     \u001b[38;5;66;03m# TODO: we need to do batching here\u001b[39;00m\n\u001b[32m    197\u001b[39m     \u001b[38;5;28;01massert\u001b[39;00m \u001b[38;5;28mgetattr\u001b[39m(\u001b[38;5;28mself\u001b[39m.masker, \u001b[33m\"\u001b[39m\u001b[33msupports_delta_masking\u001b[39m\u001b[33m\"\u001b[39m, \u001b[38;5;28;01mNone\u001b[39;00m) \u001b[38;5;129;01mis\u001b[39;00m \u001b[38;5;129;01mnot\u001b[39;00m \u001b[38;5;28;01mNone\u001b[39;00m, \u001b[33m\"\u001b[39m\u001b[33mMasker must support delta masking!\u001b[39m\u001b[33m\"\u001b[39m\n\u001b[32m--> \u001b[39m\u001b[32m199\u001b[39m     masked_inputs, varying_rows = \u001b[38;5;28;43mself\u001b[39;49m\u001b[43m.\u001b[49m\u001b[43mmasker\u001b[49m\u001b[43m(\u001b[49m\u001b[43mmasks\u001b[49m\u001b[43m,\u001b[49m\u001b[43m \u001b[49m\u001b[43m*\u001b[49m\u001b[38;5;28;43mself\u001b[39;49m\u001b[43m.\u001b[49m\u001b[43margs\u001b[49m\u001b[43m)\u001b[49m\n\u001b[32m    200\u001b[39m     num_varying_rows = varying_rows.sum(\u001b[32m1\u001b[39m)\n\u001b[32m    202\u001b[39m     subset_masked_inputs = [arg[varying_rows.reshape(-\u001b[32m1\u001b[39m)] \u001b[38;5;28;01mfor\u001b[39;00m arg \u001b[38;5;129;01min\u001b[39;00m masked_inputs]\n",
      "\u001b[36mFile \u001b[39m\u001b[32m~/Desktop/Miscellaneous/Projects/baseball/mlb-performance-predictor/.venv/lib/python3.11/site-packages/shap/maskers/_tabular.py:108\u001b[39m, in \u001b[36mTabular.__call__\u001b[39m\u001b[34m(self, mask, x)\u001b[39m\n\u001b[32m    106\u001b[39m \u001b[38;5;28mself\u001b[39m._last_mask[:] = \u001b[38;5;28;01mFalse\u001b[39;00m\n\u001b[32m    107\u001b[39m \u001b[38;5;28mself\u001b[39m._masked_data[:] = \u001b[38;5;28mself\u001b[39m.data\n\u001b[32m--> \u001b[39m\u001b[32m108\u001b[39m \u001b[43m_delta_masking\u001b[49m\u001b[43m(\u001b[49m\n\u001b[32m    109\u001b[39m \u001b[43m    \u001b[49m\u001b[43mmask\u001b[49m\u001b[43m,\u001b[49m\n\u001b[32m    110\u001b[39m \u001b[43m    \u001b[49m\u001b[43mx\u001b[49m\u001b[43m,\u001b[49m\n\u001b[32m    111\u001b[39m \u001b[43m    \u001b[49m\u001b[43mcurr_delta_inds\u001b[49m\u001b[43m,\u001b[49m\n\u001b[32m    112\u001b[39m \u001b[43m    \u001b[49m\u001b[43mvarying_rows_out\u001b[49m\u001b[43m,\u001b[49m\n\u001b[32m    113\u001b[39m \u001b[43m    \u001b[49m\u001b[38;5;28;43mself\u001b[39;49m\u001b[43m.\u001b[49m\u001b[43m_masked_data\u001b[49m\u001b[43m,\u001b[49m\n\u001b[32m    114\u001b[39m \u001b[43m    \u001b[49m\u001b[38;5;28;43mself\u001b[39;49m\u001b[43m.\u001b[49m\u001b[43m_last_mask\u001b[49m\u001b[43m,\u001b[49m\n\u001b[32m    115\u001b[39m \u001b[43m    \u001b[49m\u001b[38;5;28;43mself\u001b[39;49m\u001b[43m.\u001b[49m\u001b[43mdata\u001b[49m\u001b[43m,\u001b[49m\n\u001b[32m    116\u001b[39m \u001b[43m    \u001b[49m\u001b[43mvariants\u001b[49m\u001b[43m,\u001b[49m\n\u001b[32m    117\u001b[39m \u001b[43m    \u001b[49m\u001b[43mmasked_inputs_out\u001b[49m\u001b[43m,\u001b[49m\n\u001b[32m    118\u001b[39m \u001b[43m    \u001b[49m\u001b[43mMaskedModel\u001b[49m\u001b[43m.\u001b[49m\u001b[43mdelta_mask_noop_value\u001b[49m\u001b[43m,\u001b[49m\n\u001b[32m    119\u001b[39m \u001b[43m\u001b[49m\u001b[43m)\u001b[49m\n\u001b[32m    120\u001b[39m \u001b[38;5;28;01mif\u001b[39;00m \u001b[38;5;28mself\u001b[39m.output_dataframe:\n\u001b[32m    121\u001b[39m     \u001b[38;5;28;01mreturn\u001b[39;00m (pd.DataFrame(masked_inputs_out, columns=\u001b[38;5;28mself\u001b[39m.feature_names),), varying_rows_out\n",
      "\u001b[36mFile \u001b[39m\u001b[32m~/Desktop/Miscellaneous/Projects/baseball/mlb-performance-predictor/.venv/lib/python3.11/site-packages/numba/core/dispatcher.py:424\u001b[39m, in \u001b[36m_DispatcherBase._compile_for_args\u001b[39m\u001b[34m(self, *args, **kws)\u001b[39m\n\u001b[32m    420\u001b[39m         msg = (\u001b[33mf\u001b[39m\u001b[33m\"\u001b[39m\u001b[38;5;132;01m{\u001b[39;00m\u001b[38;5;28mstr\u001b[39m(e).rstrip()\u001b[38;5;132;01m}\u001b[39;00m\u001b[33m \u001b[39m\u001b[38;5;130;01m\\n\u001b[39;00m\u001b[38;5;130;01m\\n\u001b[39;00m\u001b[33mThis error may have been caused \u001b[39m\u001b[33m\"\u001b[39m\n\u001b[32m    421\u001b[39m                \u001b[33mf\u001b[39m\u001b[33m\"\u001b[39m\u001b[33mby the following argument(s):\u001b[39m\u001b[38;5;130;01m\\n\u001b[39;00m\u001b[38;5;132;01m{\u001b[39;00margs_str\u001b[38;5;132;01m}\u001b[39;00m\u001b[38;5;130;01m\\n\u001b[39;00m\u001b[33m\"\u001b[39m)\n\u001b[32m    422\u001b[39m         e.patch_message(msg)\n\u001b[32m--> \u001b[39m\u001b[32m424\u001b[39m     \u001b[43merror_rewrite\u001b[49m\u001b[43m(\u001b[49m\u001b[43me\u001b[49m\u001b[43m,\u001b[49m\u001b[43m \u001b[49m\u001b[33;43m'\u001b[39;49m\u001b[33;43mtyping\u001b[39;49m\u001b[33;43m'\u001b[39;49m\u001b[43m)\u001b[49m\n\u001b[32m    425\u001b[39m \u001b[38;5;28;01mexcept\u001b[39;00m errors.UnsupportedError \u001b[38;5;28;01mas\u001b[39;00m e:\n\u001b[32m    426\u001b[39m     \u001b[38;5;66;03m# Something unsupported is present in the user code, add help info\u001b[39;00m\n\u001b[32m    427\u001b[39m     error_rewrite(e, \u001b[33m'\u001b[39m\u001b[33munsupported_error\u001b[39m\u001b[33m'\u001b[39m)\n",
      "\u001b[36mFile \u001b[39m\u001b[32m~/Desktop/Miscellaneous/Projects/baseball/mlb-performance-predictor/.venv/lib/python3.11/site-packages/numba/core/dispatcher.py:365\u001b[39m, in \u001b[36m_DispatcherBase._compile_for_args.<locals>.error_rewrite\u001b[39m\u001b[34m(e, issue_type)\u001b[39m\n\u001b[32m    363\u001b[39m     \u001b[38;5;28;01mraise\u001b[39;00m e\n\u001b[32m    364\u001b[39m \u001b[38;5;28;01melse\u001b[39;00m:\n\u001b[32m--> \u001b[39m\u001b[32m365\u001b[39m     \u001b[38;5;28;01mraise\u001b[39;00m e.with_traceback(\u001b[38;5;28;01mNone\u001b[39;00m)\n",
      "\u001b[31mTypingError\u001b[39m: Failed in nopython mode pipeline (step: nopython frontend)\nnon-precise type pyobject\nDuring: typing of argument at /Users/ak11/Desktop/Miscellaneous/Projects/baseball/mlb-performance-predictor/.venv/lib/python3.11/site-packages/shap/maskers/_tabular.py (203)\n\nFile \"../.venv/lib/python3.11/site-packages/shap/maskers/_tabular.py\", line 203:\ndef _single_delta_mask(dind, masked_inputs, last_mask, data, x, noop_code):\n    <source elided>\n\n@njit\n^\n\nDuring: Pass nopython_type_inference \n\nThis error may have been caused by the following argument(s):\n- argument 1: Cannot determine Numba type of <class 'torch.Tensor'>\n"
     ]
    }
   ],
   "source": [
    "# SHAP values\n",
    "explainer = shap.Explainer(models[0], X_test.numpy())\n",
    "shap_values = explainer(X_test.numpy())\n",
    "\n",
    "shap.plots.beeswarm(shap_values)\n"
   ]
  },
  {
   "cell_type": "markdown",
   "id": "0aa0882b",
   "metadata": {},
   "source": [
    "**SHAP Explanation:** SHAP (SHapley Additive exPlanations) assigns each feature an importance value for a particular prediction. It’s based on cooperative game theory and tells you how much each feature pushed a prediction up or down."
   ]
  },
  {
   "cell_type": "markdown",
   "id": "54c13d33",
   "metadata": {},
   "source": [
    "**Permutation Importance Explanation:** It measures how much a feature contributes to a model's performance by randomly shuffling it and observing the drop in model accuracy. A bigger drop means more importance."
   ]
  }
 ],
 "metadata": {
  "kernelspec": {
   "display_name": ".venv",
   "language": "python",
   "name": "python3"
  },
  "language_info": {
   "codemirror_mode": {
    "name": "ipython",
    "version": 3
   },
   "file_extension": ".py",
   "mimetype": "text/x-python",
   "name": "python",
   "nbconvert_exporter": "python",
   "pygments_lexer": "ipython3",
   "version": "3.11.4"
  }
 },
 "nbformat": 4,
 "nbformat_minor": 5
}
