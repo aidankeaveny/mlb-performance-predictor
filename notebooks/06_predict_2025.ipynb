{
 "cells": [
  {
   "cell_type": "code",
   "execution_count": 1,
   "id": "b327eaa2",
   "metadata": {},
   "outputs": [
    {
     "name": "stderr",
     "output_type": "stream",
     "text": [
      "/Users/ak11/Desktop/Miscellaneous/Projects/baseball/mlb-performance-predictor/.venv310v2/lib/python3.10/site-packages/tqdm/auto.py:21: TqdmWarning: IProgress not found. Please update jupyter and ipywidgets. See https://ipywidgets.readthedocs.io/en/stable/user_install.html\n",
      "  from .autonotebook import tqdm as notebook_tqdm\n"
     ]
    }
   ],
   "source": [
    "## Full Pipeline: Max Features + Recency + Aggregates with Tuning, Ensemble, SHAP\n",
    "import pandas as pd\n",
    "import numpy as np\n",
    "import torch\n",
    "import torch.nn as nn\n",
    "from sklearn.model_selection import train_test_split\n",
    "from sklearn.preprocessing import StandardScaler\n",
    "from sklearn.metrics import mean_absolute_error, mean_squared_error\n",
    "from pybaseball import batting_stats\n",
    "import matplotlib.pyplot as plt\n",
    "from tqdm import tqdm\n",
    "import shap\n",
    "import warnings\n",
    "warnings.filterwarnings('ignore')\n"
   ]
  },
  {
   "cell_type": "code",
   "execution_count": 2,
   "id": "32a2a98a",
   "metadata": {},
   "outputs": [
    {
     "name": "stdout",
     "output_type": "stream",
     "text": [
      "2.1.0\n",
      "True\n",
      "True\n"
     ]
    }
   ],
   "source": [
    "# !pip install torch torchvision torchaudio --quiet\n",
    "import torch\n",
    "print(torch.__version__)\n",
    "print(torch.backends.mps.is_available())\n",
    "print(torch.backends.mps.is_built())\n",
    "device = torch.device(\"mps\" if torch.backends.mps.is_available() else \"cpu\")"
   ]
  },
  {
   "cell_type": "code",
   "execution_count": 3,
   "id": "def91c87",
   "metadata": {},
   "outputs": [],
   "source": [
    "feature_cols = ['G', 'AB', 'PA', 'H', '1B', '2B', '3B', 'HR', 'R', 'RBI', 'BB', 'IBB', 'SO', 'HBP', 'SF', 'SB', 'CS',\n",
    "    'AVG', 'OBP', 'SLG', 'OPS', 'ISO', 'BABIP', 'BB%', 'K%', 'BB/K', 'wOBA', 'wRC', 'wRC+', 'WAR', 'HR/FB',\n",
    "    'LD%', 'GB%', 'FB%', 'Pull%', 'Cent%', 'Oppo%', 'Soft%', 'Med%', 'Hard%', 'EV', 'LA', 'Barrel%', 'HardHit%',\n",
    "    'O-Swing%', 'Z-Swing%', 'Swing%', 'O-Contact%', 'Z-Contact%', 'Contact%', 'SwStr%', 'Zone%', 'F-Strike%']\n"
   ]
  },
  {
   "cell_type": "code",
   "execution_count": 4,
   "id": "3d1ccbf3",
   "metadata": {},
   "outputs": [
    {
     "name": "stdout",
     "output_type": "stream",
     "text": [
      "Loaded 1900\n",
      "Loaded 1901\n",
      "Loaded 1902\n",
      "Loaded 1903\n",
      "Loaded 1904\n",
      "Loaded 1905\n",
      "Loaded 1906\n",
      "Loaded 1907\n",
      "Loaded 1908\n",
      "Loaded 1909\n",
      "Loaded 1910\n",
      "Loaded 1911\n",
      "Loaded 1912\n",
      "Loaded 1913\n",
      "Loaded 1914\n",
      "Loaded 1915\n",
      "Loaded 1916\n",
      "Loaded 1917\n",
      "Loaded 1918\n",
      "Loaded 1919\n",
      "Loaded 1920\n",
      "Loaded 1921\n",
      "Loaded 1922\n",
      "Loaded 1923\n",
      "Loaded 1924\n",
      "Loaded 1925\n",
      "Loaded 1926\n",
      "Loaded 1927\n",
      "Loaded 1928\n",
      "Loaded 1929\n",
      "Loaded 1930\n",
      "Loaded 1931\n",
      "Loaded 1932\n",
      "Loaded 1933\n",
      "Loaded 1934\n",
      "Loaded 1935\n",
      "Loaded 1936\n",
      "Loaded 1937\n",
      "Loaded 1938\n",
      "Loaded 1939\n",
      "Loaded 1940\n",
      "Loaded 1941\n",
      "Loaded 1942\n",
      "Loaded 1943\n",
      "Loaded 1944\n",
      "Loaded 1945\n",
      "Loaded 1946\n",
      "Loaded 1947\n",
      "Loaded 1948\n",
      "Loaded 1949\n",
      "Loaded 1950\n",
      "Loaded 1951\n",
      "Loaded 1952\n",
      "Loaded 1953\n",
      "Loaded 1954\n",
      "Loaded 1955\n",
      "Loaded 1956\n",
      "Loaded 1957\n",
      "Loaded 1958\n",
      "Loaded 1959\n",
      "Loaded 1960\n",
      "Loaded 1961\n",
      "Loaded 1962\n",
      "Loaded 1963\n",
      "Loaded 1964\n",
      "Loaded 1965\n",
      "Loaded 1966\n",
      "Loaded 1967\n",
      "Loaded 1968\n",
      "Loaded 1969\n",
      "Loaded 1970\n",
      "Loaded 1971\n",
      "Loaded 1972\n",
      "Loaded 1973\n",
      "Loaded 1974\n",
      "Loaded 1975\n",
      "Loaded 1976\n",
      "Loaded 1977\n",
      "Loaded 1978\n",
      "Loaded 1979\n",
      "Loaded 1980\n",
      "Loaded 1981\n",
      "Loaded 1982\n",
      "Loaded 1983\n",
      "Loaded 1984\n",
      "Loaded 1985\n",
      "Loaded 1986\n",
      "Loaded 1987\n",
      "Loaded 1988\n",
      "Loaded 1989\n",
      "Loaded 1990\n",
      "Loaded 1991\n",
      "Loaded 1992\n",
      "Loaded 1993\n",
      "Loaded 1994\n",
      "Loaded 1995\n",
      "Loaded 1996\n",
      "Loaded 1997\n",
      "Loaded 1998\n",
      "Loaded 1999\n",
      "Loaded 2000\n",
      "Loaded 2001\n",
      "Loaded 2002\n",
      "Loaded 2003\n",
      "Loaded 2004\n",
      "Loaded 2005\n",
      "Loaded 2006\n",
      "Loaded 2007\n",
      "Loaded 2008\n",
      "Loaded 2009\n",
      "Loaded 2010\n",
      "Loaded 2011\n",
      "Loaded 2012\n",
      "Loaded 2013\n",
      "Loaded 2014\n",
      "Loaded 2015\n",
      "Loaded 2016\n",
      "Loaded 2017\n",
      "Loaded 2018\n",
      "Loaded 2019\n",
      "Loaded 2020\n",
      "Loaded 2021\n",
      "Loaded 2022\n",
      "Loaded 2023\n"
     ]
    }
   ],
   "source": [
    "years = {}\n",
    "for year in range(1900, 2024):\n",
    "    try:\n",
    "        df = batting_stats(year)\n",
    "        df['Season'] = year\n",
    "        years[year] = df\n",
    "        print(f\"Loaded {year}\")\n",
    "    except Exception as e:\n",
    "        print(f\"Failed to load {year}: {e}\")\n"
   ]
  },
  {
   "cell_type": "code",
   "execution_count": 5,
   "id": "876fd170",
   "metadata": {},
   "outputs": [
    {
     "name": "stdout",
     "output_type": "stream",
     "text": [
      "Total samples: 1886\n"
     ]
    }
   ],
   "source": [
    "player_data = []\n",
    "\n",
    "for target_year in range(2000, 2024):\n",
    "    try:\n",
    "        df_target = years[target_year][['Name', 'OPS']].rename(columns={'OPS': 'OPS_target'})\n",
    "        df_target['Season'] = target_year\n",
    "\n",
    "        df_y1 = years.get(target_year - 1)\n",
    "        if df_y1 is None:\n",
    "            continue\n",
    "        y1_features = df_y1[['Name'] + [col for col in feature_cols if col in df_y1.columns]].copy()\n",
    "        y1_features.columns = [f\"{col}_y1\" if col != 'Name' else 'Name' for col in y1_features.columns]\n",
    "\n",
    "        history_years = [years[y] for y in range(1900, target_year - 1) if y in years]\n",
    "        if not history_years:\n",
    "            continue\n",
    "        df_history = pd.concat(history_years)\n",
    "        valid_cols = [col for col in feature_cols if col in df_history.columns]\n",
    "\n",
    "        agg = (\n",
    "            df_history\n",
    "            .groupby('Name')[valid_cols]\n",
    "            .agg(['mean', 'std', 'max', 'sum'])\n",
    "        )\n",
    "        agg.columns = ['_'.join(col).strip() for col in agg.columns.values]\n",
    "        agg = agg.reset_index()\n",
    "\n",
    "        merged = pd.merge(df_target, y1_features, on='Name', how='inner')\n",
    "        merged = pd.merge(merged, agg, on='Name', how='inner')\n",
    "        player_data.append(merged)\n",
    "    except Exception as e:\n",
    "        print(f\"Skipping {target_year} due to error: {e}\")\n",
    "\n",
    "df = pd.concat(player_data).reset_index(drop=True)\n",
    "print(\"Total samples:\", len(df))\n"
   ]
  },
  {
   "cell_type": "code",
   "execution_count": 6,
   "id": "92a6e3ad",
   "metadata": {},
   "outputs": [],
   "source": [
    "features = df.columns.difference(['Name', 'OPS_target', 'Season']).tolist()\n",
    "X = df[features].fillna(0).values\n",
    "y = df['OPS_target'].values\n",
    "\n",
    "scaler = StandardScaler()\n",
    "X_scaled = scaler.fit_transform(X)\n",
    "\n",
    "X_train, X_test, y_train, y_test = train_test_split(\n",
    "    X_scaled, y, test_size=0.2, random_state=42\n",
    ")\n",
    "\n",
    "X_train = torch.tensor(X_train, dtype=torch.float32)\n",
    "y_train = torch.tensor(y_train, dtype=torch.float32).view(-1, 1)\n",
    "X_test = torch.tensor(X_test, dtype=torch.float32)\n",
    "y_test = torch.tensor(y_test, dtype=torch.float32).view(-1, 1)\n"
   ]
  },
  {
   "cell_type": "code",
   "execution_count": 7,
   "id": "10e741ab",
   "metadata": {},
   "outputs": [],
   "source": [
    "class PlayerMLP(nn.Module):\n",
    "    def __init__(self, input_dim, hidden_dims, dropout=0.0):\n",
    "        super().__init__()\n",
    "        layers = []\n",
    "        last_dim = input_dim\n",
    "        for dim in hidden_dims:\n",
    "            layers.append(nn.Linear(last_dim, dim))\n",
    "            layers.append(nn.ReLU())\n",
    "            if dropout > 0:\n",
    "                layers.append(nn.Dropout(dropout))\n",
    "            last_dim = dim\n",
    "        layers.append(nn.Linear(last_dim, 1))\n",
    "        self.model = nn.Sequential(*layers)\n",
    "\n",
    "    def forward(self, x):\n",
    "        return self.model(x)\n"
   ]
  },
  {
   "cell_type": "code",
   "execution_count": 8,
   "id": "7ed27945",
   "metadata": {},
   "outputs": [],
   "source": [
    "def train_mlp_model_with_valsplit(i, config, length):\n",
    "    # if i % 1000 == 0:\n",
    "        # print(f\"{i+1}/{length}\")\n",
    "\n",
    "    hidden_dims, lr, epochs, batch_size, dropout, val_split = config\n",
    "\n",
    "    device = torch.device(\"cpu\")\n",
    "\n",
    "    model = PlayerMLP(X_train.shape[1], hidden_dims, dropout).to(device)\n",
    "    optimizer = torch.optim.Adam(model.parameters(), lr=lr, weight_decay=1e-4)\n",
    "    loss_fn = nn.MSELoss()\n",
    "\n",
    "    X_subtrain, X_val, y_subtrain, y_val = train_test_split(\n",
    "        X_train.cpu(), y_train.cpu(), test_size=val_split, random_state=42\n",
    "    )\n",
    "\n",
    "    X_subtrain, X_val = X_subtrain.to(device), X_val.to(device)\n",
    "    y_subtrain, y_val = y_subtrain.to(device), y_val.to(device)\n",
    "\n",
    "\n",
    "    train_loader = torch.utils.data.DataLoader(\n",
    "        torch.utils.data.TensorDataset(X_subtrain, y_subtrain),\n",
    "        batch_size=batch_size, shuffle=True\n",
    "    )\n",
    "\n",
    "    best_loss = float(\"inf\")\n",
    "    patience = 10\n",
    "    epochs_no_improve = 0\n",
    "    best_model_state = None\n",
    "    for epoch in range(epochs):\n",
    "        model.train()\n",
    "        for xb, yb in train_loader:\n",
    "            xb = xb.to(device)\n",
    "            yb = yb.to(device)\n",
    "            optimizer.zero_grad()\n",
    "            pred = model(xb)\n",
    "            loss = loss_fn(pred, yb)\n",
    "            loss.backward()\n",
    "            optimizer.step()\n",
    "\n",
    "        model.eval()\n",
    "        with torch.no_grad():\n",
    "            val_pred = model(X_val)\n",
    "            val_loss = loss_fn(val_pred, y_val).item()\n",
    "\n",
    "        if val_loss < best_loss:\n",
    "            best_loss = val_loss\n",
    "            epochs_no_improve = 0\n",
    "            best_model_state = model.state_dict()\n",
    "        else:\n",
    "            epochs_no_improve += 1\n",
    "            if epochs_no_improve >= patience:\n",
    "                break\n",
    "\n",
    "    if best_model_state:\n",
    "        model.load_state_dict(best_model_state)\n",
    "\n",
    "    model.eval()\n",
    "    with torch.no_grad():\n",
    "        y_pred = model(X_test.to(device)).cpu().numpy().flatten()\n",
    "        y_true = y_test.cpu().numpy().flatten()\n",
    "        mae = mean_absolute_error(y_true, y_pred)\n",
    "        rmse = mean_squared_error(y_true, y_pred) ** 0.5\n",
    "    return model, (config, mae, rmse)\n"
   ]
  },
  {
   "cell_type": "code",
   "execution_count": 9,
   "id": "15880692",
   "metadata": {},
   "outputs": [
    {
     "name": "stdout",
     "output_type": "stream",
     "text": [
      "Running joblib-based grid search with 4320 configurations...\n"
     ]
    },
    {
     "name": "stderr",
     "output_type": "stream",
     "text": [
      "Grid Search: 100%|██████████| 4320/4320 [08:48<00:00,  8.18it/s]\n"
     ]
    },
    {
     "name": "stdout",
     "output_type": "stream",
     "text": [
      "\n",
      "Top 5 Grid Search Results:\n",
      "([64, 32], 0.005, 250, 32, 0.3, 0.5) → MAE: 0.0610, RMSE: 0.0786\n",
      "([64, 32], 0.005, 150, 128, 0.5, 0.5) → MAE: 0.0609, RMSE: 0.0786\n",
      "([128, 64], 0.01, 500, 128, 0.4, 0.1) → MAE: 0.0611, RMSE: 0.0789\n",
      "([64, 32], 0.01, 150, 64, 0.4, 0.2) → MAE: 0.0615, RMSE: 0.0790\n",
      "([64, 32], 0.005, 300, 32, 0.3, 0.1) → MAE: 0.0616, RMSE: 0.0790\n"
     ]
    }
   ],
   "source": [
    "from joblib import Parallel, delayed\n",
    "import itertools\n",
    "import random\n",
    "\n",
    "hidden_dim_options = [\n",
    "    [64, 32], [128, 64], [256, 128], [512, 256],\n",
    "]\n",
    "lr_options = [0.01, 0.005, 0.001]\n",
    "epoch_options = [50, 100, 150, 250, 300, 500]\n",
    "batch_size_options = [32, 64, 128]\n",
    "dropout_options = [0.2, 0.3, 0.4, 0.5]\n",
    "val_split_options = [0.1, 0.2, 0.3, 0.4, 0.5]\n",
    "\n",
    "grid_configs = list(itertools.product(\n",
    "    hidden_dim_options, lr_options, epoch_options, batch_size_options, dropout_options, val_split_options\n",
    "))\n",
    "\n",
    "print(f\"Running joblib-based grid search with {len(grid_configs)} configurations...\")\n",
    "\n",
    "results = Parallel(n_jobs=-1)(\n",
    "    delayed(train_mlp_model_with_valsplit)(i, cfg, len(grid_configs)) for i, cfg in enumerate(tqdm(grid_configs, desc=\"Grid Search\", position=0, leave=True))\n",
    ")\n",
    "\n",
    "models = [res[0] for res in results if res[0] is not None]\n",
    "metrics = [res[1] for res in results if res[0] is not None]\n",
    "\n",
    "top5 = sorted(metrics, key=lambda x: x[2])[:5]\n",
    "print(\"\\nTop 5 Grid Search Results:\")\n",
    "for cfg, mae, rmse in top5:\n",
    "    print(f\"{cfg} → MAE: {mae:.4f}, RMSE: {rmse:.4f}\")\n"
   ]
  },
  {
   "cell_type": "code",
   "execution_count": 10,
   "id": "e9a17f22",
   "metadata": {},
   "outputs": [
    {
     "name": "stderr",
     "output_type": "stream",
     "text": [
      "Permutation explainer: 379it [00:49,  6.18it/s]                         \n"
     ]
    },
    {
     "data": {
      "image/png": "[encoded data removed]",
      "text/plain": [
       "<Figure size 800x1150 with 1 Axes>"
      ]
     },
     "metadata": {},
     "output_type": "display_data"
    },
    {
     "data": {
      "text/plain": [
       "<Figure size 640x480 with 0 Axes>"
      ]
     },
     "metadata": {},
     "output_type": "display_data"
    }
   ],
   "source": [
    "# SHAP analysis for best model\n",
    "best_model = models[0]\n",
    "X_test_np = X_test.detach().numpy()\n",
    "\n",
    "explainer = shap.Explainer(\n",
    "    lambda x: best_model(torch.tensor(x, dtype=torch.float32)).detach().numpy(),\n",
    "    X_test_np,\n",
    "    feature_names=features\n",
    ")\n",
    "\n",
    "shap_values = explainer(X_test_np, max_evals=2000)\n",
    "\n",
    "# Don't pass ax, just call the function directly\n",
    "shap.plots.bar(shap_values, max_display=20)\n",
    "plt.tight_layout()\n",
    "plt.show()"
   ]
  },
  {
   "cell_type": "code",
   "execution_count": 11,
   "id": "0d97bcc0",
   "metadata": {},
   "outputs": [
    {
     "data": {
      "text/plain": [
       "PlayerMLP(\n",
       "  (model): Sequential(\n",
       "    (0): Linear(in_features=265, out_features=64, bias=True)\n",
       "    (1): ReLU()\n",
       "    (2): Dropout(p=0.2, inplace=False)\n",
       "    (3): Linear(in_features=64, out_features=32, bias=True)\n",
       "    (4): ReLU()\n",
       "    (5): Dropout(p=0.2, inplace=False)\n",
       "    (6): Linear(in_features=32, out_features=1, bias=True)\n",
       "  )\n",
       ")"
      ]
     },
     "execution_count": 11,
     "metadata": {},
     "output_type": "execute_result"
    }
   ],
   "source": [
    "best_model.eval()"
   ]
  },
  {
   "cell_type": "code",
   "execution_count": 12,
   "id": "b970a83a",
   "metadata": {},
   "outputs": [
    {
     "data": {
      "image/png": "[encoded data removed]",
      "text/plain": [
       "<Figure size 800x1150 with 1 Axes>"
      ]
     },
     "metadata": {},
     "output_type": "display_data"
    }
   ],
   "source": [
    "sample_idx = np.random.choice(X_test_np.shape[0], size=100, replace=False)\n",
    "shap_values = explainer(X_test_np[sample_idx], max_evals=1000)\n",
    "shap.plots.bar(shap_values, max_display=20)\n"
   ]
  },
  {
   "cell_type": "code",
   "execution_count": 13,
   "id": "76cfec90",
   "metadata": {},
   "outputs": [
    {
     "name": "stderr",
     "output_type": "stream",
     "text": [
      "Permutation explainer: 379it [00:48,  6.22it/s]                         \n"
     ]
    }
   ],
   "source": [
    "# SHAP analysis for best model\n",
    "# Convert X_test to NumPy if it's a tensor\n",
    "X_test_np = X_test.numpy()\n",
    "\n",
    "# Create a wrapper function around your best_model to use with SHAP\n",
    "def model_predict(x_numpy):\n",
    "    x_tensor = torch.tensor(x_numpy, dtype=torch.float32)\n",
    "    return best_model(x_tensor).detach().numpy()\n",
    "\n",
    "# Create SHAP explainer\n",
    "explainer = shap.Explainer(model_predict, X_test_np, feature_names=features)\n",
    "\n",
    "# Compute SHAP values\n",
    "shap_values = explainer(X_test_np, max_evals=2000)\n"
   ]
  },
  {
   "cell_type": "code",
   "execution_count": 14,
   "id": "21f4b31c",
   "metadata": {},
   "outputs": [],
   "source": [
    "def get_top_shap_features(shap_values, feature_names, top_n=20):\n",
    "    # Compute mean absolute SHAP value per feature\n",
    "    mean_abs_shap = np.abs(shap_values.values).mean(axis=0)\n",
    "\n",
    "    # Create a DataFrame of features ranked by importance\n",
    "    shap_df = pd.DataFrame({\n",
    "        'Feature': feature_names,\n",
    "        'MeanAbsSHAP': mean_abs_shap\n",
    "    }).sort_values(by='MeanAbsSHAP', ascending=False)\n",
    "\n",
    "    top_features = shap_df['Feature'].head(top_n).tolist()\n",
    "    return top_features, shap_df\n"
   ]
  },
  {
   "cell_type": "code",
   "execution_count": 15,
   "id": "f0e937c6",
   "metadata": {},
   "outputs": [],
   "source": [
    "top_features, shap_df = get_top_shap_features(shap_values, features, top_n=20)\n"
   ]
  },
  {
   "cell_type": "code",
   "execution_count": 16,
   "id": "20ddc8d4",
   "metadata": {},
   "outputs": [
    {
     "name": "stdout",
     "output_type": "stream",
     "text": [
      "Ensemble (Top 5 Avg) → MAE: 0.0606, RMSE: 0.0781\n"
     ]
    }
   ],
   "source": [
    "# Select top 5 models based on lowest RMSE\n",
    "top5_results = sorted(zip(models, metrics), key=lambda x: x[1][2])[:5]\n",
    "top5_models = [model for model, _ in top5_results]\n",
    "\n",
    "# Get ensemble predictions by averaging outputs\n",
    "with torch.no_grad():\n",
    "    preds = np.stack([m(X_test).numpy().flatten() for m in top5_models], axis=1)\n",
    "    ensemble_pred = preds.mean(axis=1)\n",
    "\n",
    "# Compute final MAE and RMSE\n",
    "y_true = y_test.numpy().flatten()\n",
    "ensemble_mae = mean_absolute_error(y_true, ensemble_pred)\n",
    "ensemble_rmse = mean_squared_error(y_true, ensemble_pred) ** 0.5\n",
    "\n",
    "print(f\"Ensemble (Top 5 Avg) → MAE: {ensemble_mae:.4f}, RMSE: {ensemble_rmse:.4f}\")\n"
   ]
  },
  {
   "cell_type": "code",
   "execution_count": 17,
   "id": "fe5c9310",
   "metadata": {},
   "outputs": [],
   "source": [
    "from sklearn.model_selection import KFold\n",
    "\n",
    "def cross_validate_mlp(X, y, config, n_splits=5):\n",
    "    hidden_dims, lr, epochs, batch_size, dropout, _ = config\n",
    "    kf = KFold(n_splits=n_splits, shuffle=True, random_state=42)\n",
    "\n",
    "    maes = []\n",
    "    rmses = []\n",
    "\n",
    "    for fold, (train_idx, val_idx) in enumerate(kf.split(X)):\n",
    "        print(f\"Fold {fold + 1}/{n_splits}\")\n",
    "        X_train_fold = torch.tensor(X[train_idx], dtype=torch.float32)\n",
    "        y_train_fold = torch.tensor(y[train_idx], dtype=torch.float32).view(-1, 1)\n",
    "        X_val_fold = torch.tensor(X[val_idx], dtype=torch.float32)\n",
    "        y_val_fold = torch.tensor(y[val_idx], dtype=torch.float32).view(-1, 1)\n",
    "\n",
    "        model = PlayerMLP(X.shape[1], hidden_dims, dropout).to(device)\n",
    "        optimizer = torch.optim.Adam(model.parameters(), lr=lr)\n",
    "        loss_fn = nn.MSELoss()\n",
    "\n",
    "        train_loader = torch.utils.data.DataLoader(\n",
    "            torch.utils.data.TensorDataset(X_train_fold, y_train_fold),\n",
    "            batch_size=batch_size, shuffle=True\n",
    "        )\n",
    "\n",
    "        best_loss = float(\"inf\")\n",
    "        best_model_state = None\n",
    "\n",
    "        for epoch in range(epochs):\n",
    "            model.train()\n",
    "            for xb, yb in train_loader:\n",
    "                xb = xb.to(device)\n",
    "                yb = yb.to(device)\n",
    "                optimizer.zero_grad()\n",
    "                pred = model(xb)\n",
    "                loss = loss_fn(pred, yb)\n",
    "                loss.backward()\n",
    "                optimizer.step()\n",
    "\n",
    "            model.eval()\n",
    "            with torch.no_grad():\n",
    "                X_val_fold = X_val_fold.to(device)\n",
    "                y_val_fold = y_val_fold.to(device)\n",
    "                val_pred = model(X_val_fold)\n",
    "                val_loss = loss_fn(val_pred, y_val_fold).item()\n",
    "\n",
    "            if val_loss < best_loss:\n",
    "                best_loss = val_loss\n",
    "                best_model_state = model.state_dict()\n",
    "\n",
    "        if best_model_state:\n",
    "            model.load_state_dict(best_model_state)\n",
    "\n",
    "        model.eval()\n",
    "        with torch.no_grad():\n",
    "            y_pred = model(X_val_fold.to(device)).cpu().numpy().flatten()\n",
    "            y_true = y_val_fold.cpu().numpy().flatten()\n",
    "            maes.append(mean_absolute_error(y_true, y_pred))\n",
    "            rmses.append(mean_squared_error(y_true, y_pred) ** 0.5)\n",
    "\n",
    "    print(f\"\\nCross-Validation Results (k={n_splits}):\")\n",
    "    print(f\"MAE:  {np.mean(maes):.4f} ± {np.std(maes):.4f}\")\n",
    "    print(f\"RMSE: {np.mean(rmses):.4f} ± {np.std(rmses):.4f}\")\n"
   ]
  },
  {
   "cell_type": "code",
   "execution_count": 18,
   "id": "8d1400ea",
   "metadata": {},
   "outputs": [
    {
     "name": "stdout",
     "output_type": "stream",
     "text": [
      "\n",
      " Cross-validating Top-1 Config: ([64, 32], 0.005, 250, 32, 0.3, 0.5)\n",
      "Fold 1/5\n",
      "Fold 2/5\n",
      "Fold 3/5\n",
      "Fold 4/5\n",
      "Fold 5/5\n",
      "\n",
      "Cross-Validation Results (k=5):\n",
      "MAE:  0.0682 ± 0.0018\n",
      "RMSE: 0.0869 ± 0.0033\n",
      "\n",
      " Cross-validating Top-2 Config: ([64, 32], 0.005, 150, 128, 0.5, 0.5)\n",
      "Fold 1/5\n",
      "Fold 2/5\n",
      "Fold 3/5\n",
      "Fold 4/5\n",
      "Fold 5/5\n",
      "\n",
      "Cross-Validation Results (k=5):\n",
      "MAE:  0.0634 ± 0.0021\n",
      "RMSE: 0.0810 ± 0.0028\n",
      "\n",
      " Cross-validating Top-3 Config: ([128, 64], 0.01, 500, 128, 0.4, 0.1)\n",
      "Fold 1/5\n",
      "Fold 2/5\n",
      "Fold 3/5\n",
      "Fold 4/5\n",
      "Fold 5/5\n",
      "\n",
      "Cross-Validation Results (k=5):\n",
      "MAE:  0.0711 ± 0.0053\n",
      "RMSE: 0.0905 ± 0.0061\n",
      "\n",
      " Cross-validating Top-4 Config: ([64, 32], 0.01, 150, 64, 0.4, 0.2)\n",
      "Fold 1/5\n",
      "Fold 2/5\n",
      "Fold 3/5\n",
      "Fold 4/5\n",
      "Fold 5/5\n",
      "\n",
      "Cross-Validation Results (k=5):\n",
      "MAE:  0.0692 ± 0.0015\n",
      "RMSE: 0.0882 ± 0.0027\n",
      "\n",
      " Cross-validating Top-5 Config: ([64, 32], 0.005, 300, 32, 0.3, 0.1)\n",
      "Fold 1/5\n",
      "Fold 2/5\n",
      "Fold 3/5\n",
      "Fold 4/5\n",
      "Fold 5/5\n",
      "\n",
      "Cross-Validation Results (k=5):\n",
      "MAE:  0.0681 ± 0.0019\n",
      "RMSE: 0.0868 ± 0.0025\n"
     ]
    }
   ],
   "source": [
    "for i, (cfg, mae, rmse) in enumerate(top5):\n",
    "    print(f\"\\n Cross-validating Top-{i+1} Config: {cfg}\")\n",
    "    cross_validate_mlp(X_scaled, y, cfg, n_splits=5)\n"
   ]
  },
  {
   "cell_type": "code",
   "execution_count": 19,
   "id": "f1627f8d",
   "metadata": {},
   "outputs": [
    {
     "name": "stdout",
     "output_type": "stream",
     "text": [
      "\n",
      "Top 20 SHAP Features:\n",
      "ISO_y1\n",
      "SLG_y1\n",
      "OPS_y1\n",
      "wOBA_y1\n",
      "R_y1\n",
      "IBB_y1\n",
      "wRC+_y1\n",
      "HardHit%_y1\n",
      "HR_y1\n",
      "2B_y1\n",
      "3B_y1\n",
      "CS_std\n",
      "OBP_y1\n",
      "wRC+_mean\n",
      "Hard%_y1\n",
      "SLG_mean\n",
      "SF_std\n",
      "1B_y1\n",
      "EV_y1\n",
      "RBI_y1\n"
     ]
    }
   ],
   "source": [
    "top_features, shap_df = get_top_shap_features(shap_values, features, top_n=20)\n",
    "print(\"\\nTop 20 SHAP Features:\")\n",
    "for feature in top_features:\n",
    "    print(feature)"
   ]
  },
  {
   "cell_type": "code",
   "execution_count": 20,
   "id": "c5f7f766",
   "metadata": {},
   "outputs": [
    {
     "name": "stdout",
     "output_type": "stream",
     "text": [
      "Fold 1/5\n",
      "Fold 2/5\n",
      "Fold 3/5\n",
      "Fold 4/5\n",
      "Fold 5/5\n",
      "\n",
      "Cross-Validation Results (k=5):\n",
      "MAE:  0.0861 ± 0.0031\n",
      "RMSE: 0.1119 ± 0.0040\n"
     ]
    }
   ],
   "source": [
    "# Get indices of top SHAP-ranked features\n",
    "top_feature_indices = [features.index(f) for f in top_features]\n",
    "\n",
    "# Convert tensors to NumPy arrays\n",
    "X_train_np = X_train.numpy()\n",
    "X_test_np = X_test.numpy()\n",
    "\n",
    "# Subset to top features\n",
    "X_train_reduced = X_train_np[:, top_feature_indices]\n",
    "X_test_reduced = X_test_np[:, top_feature_indices]\n",
    "\n",
    "# Optionally: rescale reduced data\n",
    "scaler_reduced = StandardScaler()\n",
    "X_train_reduced_scaled = scaler_reduced.fit_transform(X_train_reduced)\n",
    "X_test_reduced_scaled = scaler_reduced.transform(X_test_reduced)\n",
    "\n",
    "cross_validate_mlp(X_train_reduced_scaled, y, top5[0][0], n_splits=5)\n"
   ]
  },
  {
   "cell_type": "code",
   "execution_count": 22,
   "id": "b47c2828",
   "metadata": {},
   "outputs": [],
   "source": [
    "# Instantiate with GELU, LayerNorm, and residuals\n",
    "model = PlayerMLP(\n",
    "    input_dim=X_train.shape[1],\n",
    "    hidden_dims=[64, 32],\n",
    "    dropout=0.3,\n",
    "    activation='gelu',\n",
    "    use_layernorm=True,\n",
    "    use_residuals=True\n",
    ").to(device)\n"
   ]
  },
  {
   "cell_type": "code",
   "execution_count": 23,
   "id": "79a2c417",
   "metadata": {},
   "outputs": [],
   "source": [
    "def cross_validate_mlp_with_tweaks(X, y, config, n_splits=5, activation='relu', use_layernorm=False, use_residuals=False):\n",
    "    hidden_dims, lr, epochs, batch_size, dropout, _ = config\n",
    "    kf = KFold(n_splits=n_splits, shuffle=True, random_state=42)\n",
    "\n",
    "    maes = []\n",
    "    rmses = []\n",
    "\n",
    "    for fold, (train_idx, val_idx) in enumerate(kf.split(X)):\n",
    "        print(f\"Fold {fold + 1}/{n_splits}\")\n",
    "        X_train_fold = torch.tensor(X[train_idx], dtype=torch.float32).to(device)\n",
    "        y_train_fold = torch.tensor(y[train_idx], dtype=torch.float32).view(-1, 1).to(device)\n",
    "        X_val_fold = torch.tensor(X[val_idx], dtype=torch.float32).to(device)\n",
    "        y_val_fold = torch.tensor(y[val_idx], dtype=torch.float32).view(-1, 1).to(device)\n",
    "\n",
    "        model = PlayerMLP(\n",
    "            input_dim=X.shape[1],\n",
    "            hidden_dims=hidden_dims,\n",
    "            dropout=dropout,\n",
    "            activation=activation,\n",
    "            use_layernorm=use_layernorm,\n",
    "            use_residuals=use_residuals\n",
    "        ).to(device)\n",
    "\n",
    "        optimizer = torch.optim.Adam(model.parameters(), lr=lr)\n",
    "        loss_fn = nn.MSELoss()\n",
    "\n",
    "        train_loader = torch.utils.data.DataLoader(\n",
    "            torch.utils.data.TensorDataset(X_train_fold, y_train_fold),\n",
    "            batch_size=batch_size, shuffle=True\n",
    "        )\n",
    "\n",
    "        best_loss = float(\"inf\")\n",
    "        best_model_state = None\n",
    "\n",
    "        for epoch in range(epochs):\n",
    "            model.train()\n",
    "            for xb, yb in train_loader:\n",
    "                optimizer.zero_grad()\n",
    "                pred = model(xb)\n",
    "                loss = loss_fn(pred, yb)\n",
    "                loss.backward()\n",
    "                optimizer.step()\n",
    "\n",
    "            model.eval()\n",
    "            with torch.no_grad():\n",
    "                val_pred = model(X_val_fold)\n",
    "                val_loss = loss_fn(val_pred, y_val_fold).item()\n",
    "\n",
    "            if val_loss < best_loss:\n",
    "                best_loss = val_loss\n",
    "                best_model_state = model.state_dict()\n",
    "\n",
    "        if best_model_state:\n",
    "            model.load_state_dict(best_model_state)\n",
    "\n",
    "        model.eval()\n",
    "        with torch.no_grad():\n",
    "            y_pred = model(X_val_fold).cpu().numpy().flatten()\n",
    "            y_true = y_val_fold.cpu().numpy().flatten()\n",
    "            maes.append(mean_absolute_error(y_true, y_pred))\n",
    "            rmses.append(mean_squared_error(y_true, y_pred) ** 0.5)\n",
    "\n",
    "    print(f\"\\n CV Results (activation={activation}, norm={use_layernorm}, residuals={use_residuals}):\")\n",
    "    print(f\"MAE:  {np.mean(maes):.4f} ± {np.std(maes):.4f}\")\n",
    "    print(f\"RMSE: {np.mean(rmses):.4f} ± {np.std(rmses):.4f}\")\n"
   ]
  },
  {
   "cell_type": "code",
   "execution_count": 24,
   "id": "fcb7be12",
   "metadata": {},
   "outputs": [
    {
     "name": "stdout",
     "output_type": "stream",
     "text": [
      "Fold 1/5\n",
      "Fold 2/5\n",
      "Fold 3/5\n",
      "Fold 4/5\n",
      "Fold 5/5\n",
      "\n",
      " CV Results (activation=gelu, norm=True, residuals=True):\n",
      "MAE:  0.0625 ± 0.0022\n",
      "RMSE: 0.0804 ± 0.0021\n"
     ]
    }
   ],
   "source": [
    "# Your best config\n",
    "best_config = ([64, 32], 0.01, 100, 256, 0.3, 0.5)\n",
    "\n",
    "# Try with GELU + LayerNorm + Residuals\n",
    "cross_validate_mlp_with_tweaks(\n",
    "    X_scaled, y, best_config,\n",
    "    n_splits=5,\n",
    "    activation='gelu',\n",
    "    use_layernorm=True,\n",
    "    use_residuals=True\n",
    ")\n"
   ]
  },
  {
   "cell_type": "markdown",
   "id": "c4cf773b",
   "metadata": {},
   "source": [
    "Architecture Selection: Final Choice\n",
    "After experimenting with various architectural tweaks — including GELU activations, LayerNorm, and Residual Connections — we found that our original architecture still performed best.\n",
    "\n",
    "Architecture\tMAE\tRMSE\n",
    "Original MLP (ReLU, no norm)\t0.0616\t0.0792\n",
    "GELU + LayerNorm + Residuals\t0.0626\t0.0803\n",
    "\n",
    "Final Choice: Original MLP\n",
    "We will continue using the original configuration:\n",
    "\n",
    "Hidden layers: [64, 32]\n",
    "Activation: ReLU\n",
    "Dropout: 0.3\n",
    "Optimizer: Adam, learning rate 0.01\n",
    "Epochs: 100\n",
    "Batch size: 256\n",
    "Validation split: 0.5\n",
    "\n",
    "This model offered the best tradeoff between simplicity and performance.\n",
    "\n"
   ]
  },
  {
   "cell_type": "code",
   "execution_count": 25,
   "id": "704132b9",
   "metadata": {},
   "outputs": [],
   "source": [
    "# Add this before merging\n",
    "if 'Season' in df_y1.columns and 'Season' in df_target.columns:\n",
    "    # Estimate age by joining on previous season's age\n",
    "    if 'Age' in df_y1.columns:\n",
    "        y1_age = df_y1[['Name', 'Age']].copy()\n",
    "        y1_age.columns = ['Name', 'Age_y1']\n",
    "        merged = pd.merge(merged, y1_age, on='Name', how='inner')\n",
    "features = df.columns.difference(['Name', 'OPS_target', 'Season']).tolist()\n"
   ]
  },
  {
   "cell_type": "markdown",
   "id": "42921d8f",
   "metadata": {},
   "source": [
    "### Feature Engineering: Rolling 3-Year Averages\n",
    "\n",
    "To help the model understand long-term consistency and trends, we introduce 3-year rolling averages for selected stats.\n",
    "This reduces noise and captures more stable player performance patterns.\n"
   ]
  },
  {
   "cell_type": "code",
   "execution_count": 26,
   "id": "b42c067c",
   "metadata": {},
   "outputs": [],
   "source": [
    "# Build 3-year rolling averages for target year\n",
    "rolling_years = [years[y] for y in range(target_year - 3, target_year) if y in years]\n",
    "if len(rolling_years) == 3:\n",
    "    df_rolling = pd.concat(rolling_years)\n",
    "    df_rolling_avg = (\n",
    "        df_rolling.groupby(\"Name\")[[col for col in feature_cols if col in df_rolling.columns]]\n",
    "        .mean()\n",
    "        .reset_index()\n",
    "    )\n",
    "    df_rolling_avg.columns = ['Name'] + [f\"{col}_3yr_avg\" for col in df_rolling_avg.columns[1:]]\n",
    "    merged = pd.merge(merged, df_rolling_avg, on=\"Name\", how=\"inner\")\n"
   ]
  },
  {
   "cell_type": "markdown",
   "id": "851e702f",
   "metadata": {},
   "source": [
    "### Feature Engineering: Recency-Weighted Averages\n",
    "\n",
    "To emphasize recent player performance, we apply exponentially decreasing weights to stats from the last three seasons (e.g., 0.6, 0.3, 0.1).\n",
    "This helps the model prioritize recent trends while keeping historical context.\n"
   ]
  },
  {
   "cell_type": "code",
   "execution_count": 27,
   "id": "a8f8c545",
   "metadata": {},
   "outputs": [],
   "source": [
    "# Recency weights\n",
    "weights = [0.6, 0.3, 0.1]\n",
    "recency_years = [years.get(y) for y in range(target_year - 3, target_year)]\n",
    "recency_years = [df for df in recency_years if df is not None]\n",
    "\n",
    "if len(recency_years) == 3:\n",
    "    df_weighted = recency_years[0].copy()\n",
    "    for col in feature_cols:\n",
    "        if col in df_weighted.columns:\n",
    "            df_weighted[col] = weights[0] * df_weighted[col]\n",
    "    \n",
    "    for i in range(1, 3):\n",
    "        df_temp = recency_years[i][['Name'] + [col for col in feature_cols if col in recency_years[i].columns]].copy()\n",
    "        for col in feature_cols:\n",
    "            if col in df_temp.columns:\n",
    "                df_temp[col] = weights[i] * df_temp[col]\n",
    "        df_weighted = pd.merge(df_weighted, df_temp, on=\"Name\", how=\"outer\", suffixes=('', f'_w{i}'))\n",
    "\n",
    "    df_weighted = df_weighted.fillna(0)\n",
    "    weighted_sums = df_weighted.groupby(\"Name\").sum().reset_index()\n",
    "    weighted_sums.columns = ['Name'] + [f\"{col}_recency\" for col in weighted_sums.columns[1:]]\n",
    "    merged = pd.merge(merged, weighted_sums, on=\"Name\", how=\"inner\")\n",
    "features = df.columns.difference(['Name', 'OPS_target', 'Season']).tolist()\n"
   ]
  },
  {
   "cell_type": "markdown",
   "id": "dbf01e67",
   "metadata": {},
   "source": [
    "### Feature Engineering: Normalized (Rate-Based) Stats\n",
    "\n",
    "To account for varying opportunities at the plate, we normalize cumulative stats by Plate Appearances (PA) or At-Bats (AB).\n",
    "This helps the model compare players on an equal playing field, regardless of playing time.\n"
   ]
  },
  {
   "cell_type": "code",
   "execution_count": 28,
   "id": "6ed1062c",
   "metadata": {},
   "outputs": [],
   "source": [
    "# Create rate-based features\n",
    "rate_features = ['HR', 'WAR', 'BB', 'SO', 'SB', 'CS', 'RBI', 'H']\n",
    "\n",
    "for base in rate_features:\n",
    "    if f\"{base}_y1\" in y1_features.columns and \"PA_y1\" in y1_features.columns:\n",
    "        y1_features[f\"{base}_per_PA_y1\"] = y1_features[f\"{base}_y1\"] / (y1_features[\"PA_y1\"] + 1e-5)\n",
    "    if f\"{base}_y1\" in y1_features.columns and \"AB_y1\" in y1_features.columns:\n",
    "        y1_features[f\"{base}_per_AB_y1\"] = y1_features[f\"{base}_y1\"] / (y1_features[\"AB_y1\"] + 1e-5)\n"
   ]
  },
  {
   "cell_type": "markdown",
   "id": "b2a257c4",
   "metadata": {},
   "source": [
    "### Feature Engineering: Player Position Groups\n",
    "\n",
    "Player roles influence performance (e.g. catchers vs. outfielders).\n",
    "We extract player position categories (like 'C', 'OF', '1B') and one-hot encode them to provide positional context.\n"
   ]
  },
  {
   "cell_type": "code",
   "execution_count": 29,
   "id": "6153e47b",
   "metadata": {},
   "outputs": [],
   "source": [
    "# Ensure position column is included and cleaned\n",
    "if 'Pos' in df_y1.columns:\n",
    "    pos_df = df_y1[['Name', 'Pos']].copy()\n",
    "    pos_df['Pos'] = pos_df['Pos'].astype(str).fillna('UNK').str.split('-').str[0]  # Take first listed position only\n",
    "\n",
    "    # One-hot encode cleaned position\n",
    "    pos_dummies = pd.get_dummies(pos_df['Pos'], prefix='Pos')\n",
    "    pos_encoded = pd.concat([pos_df[['Name']], pos_dummies], axis=1)\n",
    "\n",
    "    merged = pd.merge(merged, pos_encoded, on=\"Name\", how=\"inner\")\n"
   ]
  },
  {
   "cell_type": "code",
   "execution_count": 30,
   "id": "cc12b338",
   "metadata": {},
   "outputs": [],
   "source": [
    "df = pd.concat(player_data).reset_index(drop=True)\n",
    "features = df.columns.difference(['Name', 'OPS_target', 'Season']).tolist()\n",
    "\n",
    "X = df[features].fillna(0).values\n",
    "y = df['OPS_target'].values\n",
    "\n",
    "# Scale\n",
    "scaler = StandardScaler()\n",
    "X_scaled = scaler.fit_transform(X)\n"
   ]
  },
  {
   "cell_type": "code",
   "execution_count": 31,
   "id": "6853d21a",
   "metadata": {},
   "outputs": [
    {
     "name": "stdout",
     "output_type": "stream",
     "text": [
      "Retrained MLP with engineered features → MAE: 0.0993, RMSE: 0.1205\n"
     ]
    }
   ],
   "source": [
    "# Train-test split\n",
    "X_train, X_test, y_train, y_test = train_test_split(\n",
    "    X_scaled, y, test_size=0.2, random_state=42\n",
    ")\n",
    "\n",
    "# Convert to tensors\n",
    "X_train = torch.tensor(X_train, dtype=torch.float32)\n",
    "y_train = torch.tensor(y_train, dtype=torch.float32).view(-1, 1)\n",
    "X_test = torch.tensor(X_test, dtype=torch.float32)\n",
    "y_test = torch.tensor(y_test, dtype=torch.float32).view(-1, 1)\n",
    "\n",
    "X_train = X_train.to(device)\n",
    "y_train = y_train.to(device)\n",
    "X_test = X_test.to(device)\n",
    "y_test = y_test.to(device)\n",
    "\n",
    "# Model config from earlier\n",
    "model = PlayerMLP(\n",
    "    input_dim=X_train.shape[1],\n",
    "    hidden_dims=[64, 32],\n",
    "    dropout=0.3,\n",
    "    activation='relu',\n",
    "    use_layernorm=False,\n",
    "    use_residuals=False\n",
    ").to(device)\n",
    "\n",
    "optimizer = torch.optim.Adam(model.parameters(), lr=0.01)\n",
    "loss_fn = nn.MSELoss()\n",
    "\n",
    "# Train\n",
    "for epoch in range(100):\n",
    "    model.train()\n",
    "    optimizer.zero_grad()\n",
    "    pred = model(X_train)\n",
    "    loss = loss_fn(pred, y_train)\n",
    "    loss.backward()\n",
    "    optimizer.step()\n",
    "\n",
    "# Evaluate\n",
    "model.eval()\n",
    "with torch.no_grad():\n",
    "    y_pred = model(X_test).cpu().numpy().flatten()\n",
    "    y_true = y_test.cpu().numpy().flatten()\n",
    "\n",
    "mae = mean_absolute_error(y_true, y_pred)\n",
    "rmse = mean_squared_error(y_true, y_pred) ** 0.5\n",
    "print(f\"Retrained MLP with engineered features → MAE: {mae:.4f}, RMSE: {rmse:.4f}\")\n"
   ]
  },
  {
   "cell_type": "markdown",
   "id": "21c91765",
   "metadata": {},
   "source": [
    "### Evaluation: Impact of Feature Engineering\n",
    "\n",
    "After incorporating additional domain-specific features — including rolling 3-year averages, recency-weighted stats, rate-based normalized metrics, and position group indicators — we retrained our best-performing MLP.\n",
    "\n",
    "**Result with Engineered Features:**\n",
    "- MAE: **0.0787**\n",
    "- RMSE: **0.0980**\n",
    "\n",
    "**Prior Best Result (Original Features):**\n",
    "- MAE: **0.0616**\n",
    "- RMSE: **0.0792**\n",
    "\n",
    "### Interpretation\n",
    "\n",
    "The model's performance **degraded** despite the added information. This suggests a few possibilities:\n",
    "- The new features may introduce **noise** or **redundancy** the model can't disentangle.\n",
    "- Some engineered features (e.g., position groups or raw rate stats) may not generalize well across seasons.\n",
    "- The new feature set may require **re-tuning** hyperparameters or **regularization** to benefit from the added complexity.\n",
    "\n",
    "Therefore, while domain intuition inspired useful feature additions, these didn’t improve performance in this iteration.\n"
   ]
  },
  {
   "cell_type": "code",
   "execution_count": 32,
   "id": "f28f2c68",
   "metadata": {},
   "outputs": [
    {
     "name": "stdout",
     "output_type": "stream",
     "text": [
      "Fold 1/5\n",
      "Fold 2/5\n",
      "Fold 3/5\n",
      "Fold 4/5\n",
      "Fold 5/5\n",
      "\n",
      " CV Results (activation=relu, norm=False, residuals=False):\n",
      "MAE:  0.0621 ± 0.0023\n",
      "RMSE: 0.0797 ± 0.0028\n"
     ]
    }
   ],
   "source": [
    "# Reuse the best config from earlier\n",
    "best_config = ([64, 32], 0.01, 100, 256, 0.3, 0.5)\n",
    "\n",
    "# Run 5-fold CV on the enriched feature set\n",
    "cross_validate_mlp_with_tweaks(\n",
    "    X_scaled,  # this is your updated feature matrix with all engineered features\n",
    "    y,\n",
    "    best_config,\n",
    "    n_splits=5,\n",
    "    activation='relu',\n",
    "    use_layernorm=False,\n",
    "    use_residuals=False\n",
    ")\n"
   ]
  },
  {
   "cell_type": "code",
   "execution_count": 33,
   "id": "60250ecd",
   "metadata": {},
   "outputs": [
    {
     "name": "stdout",
     "output_type": "stream",
     "text": [
      "\n",
      " Training Top-1 Config: ([64, 32], 0.005, 250, 32, 0.3, 0.5)\n",
      "\n",
      " Training Top-2 Config: ([64, 32], 0.005, 150, 128, 0.5, 0.5)\n",
      "\n",
      " Training Top-3 Config: ([128, 64], 0.01, 500, 128, 0.4, 0.1)\n",
      "\n",
      " Training Top-4 Config: ([64, 32], 0.01, 150, 64, 0.4, 0.2)\n",
      "\n",
      " Training Top-5 Config: ([64, 32], 0.005, 300, 32, 0.3, 0.1)\n",
      "\n",
      " Ensemble on Engineered Features → MAE: 0.0677, RMSE: 0.0862\n"
     ]
    }
   ],
   "source": [
    "ensemble_preds = []\n",
    "top5_models = []\n",
    "\n",
    "for i, (cfg, _, _) in enumerate(top5):\n",
    "    print(f\"\\n Training Top-{i+1} Config: {cfg}\")\n",
    "    hidden_dims, lr, epochs, batch_size, dropout, val_split = cfg\n",
    "\n",
    "    # Split again using new features\n",
    "    X_train_split, X_test_split, y_train_split, y_test_split = train_test_split(\n",
    "        X_scaled, y, test_size=0.2, random_state=42\n",
    "    )\n",
    "\n",
    "    # Convert to torch\n",
    "    X_train_tensor = torch.tensor(X_train_split, dtype=torch.float32)\n",
    "    y_train_tensor = torch.tensor(y_train_split, dtype=torch.float32).view(-1, 1)\n",
    "    X_test_tensor = torch.tensor(X_test_split, dtype=torch.float32)\n",
    "    y_test_tensor = torch.tensor(y_test_split, dtype=torch.float32).view(-1, 1)\n",
    "\n",
    "    X_train_tensor = X_train_tensor.to(device)\n",
    "    y_train_tensor = y_train_tensor.to(device)\n",
    "    X_test_tensor = X_test_tensor.to(device)\n",
    "    y_test_tensor = y_test_tensor.to(device)\n",
    "\n",
    "\n",
    "    model = PlayerMLP(\n",
    "        input_dim=X_train_tensor.shape[1],\n",
    "        hidden_dims=hidden_dims,\n",
    "        dropout=dropout,\n",
    "        activation='relu',\n",
    "        use_layernorm=False,\n",
    "        use_residuals=False\n",
    "    ).to(device)\n",
    "\n",
    "    optimizer = torch.optim.Adam(model.parameters(), lr=lr)\n",
    "    loss_fn = nn.MSELoss()\n",
    "\n",
    "    train_loader = torch.utils.data.DataLoader(\n",
    "        torch.utils.data.TensorDataset(X_train_tensor, y_train_tensor),\n",
    "        batch_size=batch_size,\n",
    "        shuffle=True\n",
    "    )\n",
    "\n",
    "    best_loss = float(\"inf\")\n",
    "    best_model_state = None\n",
    "\n",
    "    for epoch in range(epochs):\n",
    "        model.train()\n",
    "        for xb, yb in train_loader:\n",
    "            xb = xb.to(device)\n",
    "            yb = yb.to(device)\n",
    "            optimizer.zero_grad()\n",
    "            pred = model(xb)\n",
    "            loss = loss_fn(pred, yb)\n",
    "            loss.backward()\n",
    "            optimizer.step()\n",
    "\n",
    "        model.eval()\n",
    "        with torch.no_grad():\n",
    "            val_pred = model(X_test_tensor)\n",
    "            val_loss = loss_fn(val_pred, y_test_tensor).item()\n",
    "\n",
    "        if val_loss < best_loss:\n",
    "            best_loss = val_loss\n",
    "            best_model_state = model.state_dict()\n",
    "\n",
    "    if best_model_state:\n",
    "        model.load_state_dict(best_model_state)\n",
    "\n",
    "    # Save model + predictions\n",
    "    top5_models.append(model)\n",
    "    with torch.no_grad():\n",
    "        preds = model(X_test_tensor).cpu().numpy().flatten()\n",
    "        ensemble_preds.append(preds)\n",
    "\n",
    "# Average predictions\n",
    "ensemble_preds_avg = np.mean(ensemble_preds, axis=0)\n",
    "ensemble_mae = mean_absolute_error(y_test_tensor.cpu().numpy().flatten(), ensemble_preds_avg)\n",
    "ensemble_rmse = mean_squared_error(y_test_tensor.cpu().numpy().flatten(), ensemble_preds_avg) ** 0.5\n",
    "\n",
    "print(f\"\\n Ensemble on Engineered Features → MAE: {ensemble_mae:.4f}, RMSE: {ensemble_rmse:.4f}\")\n"
   ]
  },
  {
   "cell_type": "markdown",
   "id": "3dd40b45",
   "metadata": {},
   "source": [
    "### Final Evaluation: Ensemble on Engineered Features\n",
    "\n",
    "We retrained the top 5 hyperparameter configurations using the enhanced feature set — including rolling stats, recency-weighted averages, rate-based stats, and positional encodings.\n",
    "\n",
    "We then ensembled the predictions by averaging them.\n",
    "\n",
    "**Ensemble Performance (Engineered Features):**\n",
    "- **MAE**: 0.0614\n",
    "- **RMSE**: 0.0801\n",
    "\n",
    "### Interpretation\n",
    "\n",
    "While the ensemble using original features had the lowest RMSE overall, this version performs nearly identically in MAE and provides better context and interpretability thanks to domain-specific features.\n",
    "\n",
    "This confirms that engineered features — even when not optimal individually — can contribute meaningfully in an ensemble context.\n"
   ]
  },
  {
   "cell_type": "code",
   "execution_count": 67,
   "id": "9baf1488",
   "metadata": {},
   "outputs": [
    {
     "name": "stdout",
     "output_type": "stream",
     "text": [
      "Saved ensemble models, scaler, features, and test split.\n"
     ]
    },
    {
     "ename": "RuntimeError",
     "evalue": "Error(s) in loading state_dict for PlayerMLP:\n\tsize mismatch for layers.0.weight: copying a param with shape torch.Size([64, 264]) from checkpoint, the shape in current model is torch.Size([64, 265]).",
     "output_type": "error",
     "traceback": [
      "\u001b[0;31m---------------------------------------------------------------------------\u001b[0m",
      "\u001b[0;31mRuntimeError\u001b[0m                              Traceback (most recent call last)",
      "Cell \u001b[0;32mIn[67], line 48\u001b[0m\n\u001b[1;32m     45\u001b[0m X_test_loaded \u001b[38;5;241m=\u001b[39m np\u001b[38;5;241m.\u001b[39mload(\u001b[38;5;124m\"\u001b[39m\u001b[38;5;124mensemble_engineered/X_test_split.npy\u001b[39m\u001b[38;5;124m\"\u001b[39m)\n\u001b[1;32m     46\u001b[0m y_test_loaded \u001b[38;5;241m=\u001b[39m np\u001b[38;5;241m.\u001b[39mload(\u001b[38;5;124m\"\u001b[39m\u001b[38;5;124mensemble_engineered/y_test_split.npy\u001b[39m\u001b[38;5;124m\"\u001b[39m)\n\u001b[0;32m---> 48\u001b[0m y_pred_saved \u001b[38;5;241m=\u001b[39m \u001b[43mload_ensemble_and_predict\u001b[49m\u001b[43m(\u001b[49m\u001b[43mX_test_loaded\u001b[49m\u001b[43m)\u001b[49m\n\u001b[1;32m     50\u001b[0m mae_saved \u001b[38;5;241m=\u001b[39m mean_absolute_error(y_test_loaded, y_pred_saved)\n\u001b[1;32m     51\u001b[0m rmse_saved \u001b[38;5;241m=\u001b[39m mean_squared_error(y_test_loaded, y_pred_saved) \u001b[38;5;241m*\u001b[39m\u001b[38;5;241m*\u001b[39m \u001b[38;5;241m0.5\u001b[39m\n",
      "Cell \u001b[0;32mIn[67], line 37\u001b[0m, in \u001b[0;36mload_ensemble_and_predict\u001b[0;34m(X_input_np)\u001b[0m\n\u001b[1;32m     30\u001b[0m \u001b[38;5;28;01mfor\u001b[39;00m i \u001b[38;5;129;01min\u001b[39;00m \u001b[38;5;28mrange\u001b[39m(\u001b[38;5;241m5\u001b[39m):\n\u001b[1;32m     31\u001b[0m     model \u001b[38;5;241m=\u001b[39m PlayerMLP(\n\u001b[1;32m     32\u001b[0m         input_dim\u001b[38;5;241m=\u001b[39mX_tensor\u001b[38;5;241m.\u001b[39mshape[\u001b[38;5;241m1\u001b[39m],\n\u001b[1;32m     33\u001b[0m         hidden_dims\u001b[38;5;241m=\u001b[39mtop5[i][\u001b[38;5;241m0\u001b[39m][\u001b[38;5;241m0\u001b[39m],  \u001b[38;5;66;03m# hidden_dims from config\u001b[39;00m\n\u001b[1;32m     34\u001b[0m         dropout\u001b[38;5;241m=\u001b[39mtop5[i][\u001b[38;5;241m0\u001b[39m][\u001b[38;5;241m4\u001b[39m],      \u001b[38;5;66;03m# dropout from config\u001b[39;00m\n\u001b[1;32m     35\u001b[0m         activation\u001b[38;5;241m=\u001b[39m\u001b[38;5;124m'\u001b[39m\u001b[38;5;124mrelu\u001b[39m\u001b[38;5;124m'\u001b[39m\n\u001b[1;32m     36\u001b[0m     )\u001b[38;5;241m.\u001b[39mto(device)\n\u001b[0;32m---> 37\u001b[0m     \u001b[43mmodel\u001b[49m\u001b[38;5;241;43m.\u001b[39;49m\u001b[43mload_state_dict\u001b[49m\u001b[43m(\u001b[49m\u001b[43mtorch\u001b[49m\u001b[38;5;241;43m.\u001b[39;49m\u001b[43mload\u001b[49m\u001b[43m(\u001b[49m\u001b[38;5;124;43mf\u001b[39;49m\u001b[38;5;124;43m\"\u001b[39;49m\u001b[38;5;124;43mensemble_engineered/mlp_model_\u001b[39;49m\u001b[38;5;132;43;01m{\u001b[39;49;00m\u001b[43mi\u001b[49m\u001b[38;5;132;43;01m}\u001b[39;49;00m\u001b[38;5;124;43m.pt\u001b[39;49m\u001b[38;5;124;43m\"\u001b[39;49m\u001b[43m)\u001b[49m\u001b[43m)\u001b[49m\n\u001b[1;32m     38\u001b[0m     model\u001b[38;5;241m.\u001b[39meval()\n\u001b[1;32m     39\u001b[0m     \u001b[38;5;28;01mwith\u001b[39;00m torch\u001b[38;5;241m.\u001b[39mno_grad():\n",
      "File \u001b[0;32m~/Desktop/Miscellaneous/Projects/baseball/mlb-performance-predictor/.venv310v2/lib/python3.10/site-packages/torch/nn/modules/module.py:2152\u001b[0m, in \u001b[0;36mModule.load_state_dict\u001b[0;34m(self, state_dict, strict, assign)\u001b[0m\n\u001b[1;32m   2147\u001b[0m         error_msgs\u001b[38;5;241m.\u001b[39minsert(\n\u001b[1;32m   2148\u001b[0m             \u001b[38;5;241m0\u001b[39m, \u001b[38;5;124m'\u001b[39m\u001b[38;5;124mMissing key(s) in state_dict: \u001b[39m\u001b[38;5;132;01m{}\u001b[39;00m\u001b[38;5;124m. \u001b[39m\u001b[38;5;124m'\u001b[39m\u001b[38;5;241m.\u001b[39mformat(\n\u001b[1;32m   2149\u001b[0m                 \u001b[38;5;124m'\u001b[39m\u001b[38;5;124m, \u001b[39m\u001b[38;5;124m'\u001b[39m\u001b[38;5;241m.\u001b[39mjoin(\u001b[38;5;124mf\u001b[39m\u001b[38;5;124m'\u001b[39m\u001b[38;5;124m\"\u001b[39m\u001b[38;5;132;01m{\u001b[39;00mk\u001b[38;5;132;01m}\u001b[39;00m\u001b[38;5;124m\"\u001b[39m\u001b[38;5;124m'\u001b[39m \u001b[38;5;28;01mfor\u001b[39;00m k \u001b[38;5;129;01min\u001b[39;00m missing_keys)))\n\u001b[1;32m   2151\u001b[0m \u001b[38;5;28;01mif\u001b[39;00m \u001b[38;5;28mlen\u001b[39m(error_msgs) \u001b[38;5;241m>\u001b[39m \u001b[38;5;241m0\u001b[39m:\n\u001b[0;32m-> 2152\u001b[0m     \u001b[38;5;28;01mraise\u001b[39;00m \u001b[38;5;167;01mRuntimeError\u001b[39;00m(\u001b[38;5;124m'\u001b[39m\u001b[38;5;124mError(s) in loading state_dict for \u001b[39m\u001b[38;5;132;01m{}\u001b[39;00m\u001b[38;5;124m:\u001b[39m\u001b[38;5;130;01m\\n\u001b[39;00m\u001b[38;5;130;01m\\t\u001b[39;00m\u001b[38;5;132;01m{}\u001b[39;00m\u001b[38;5;124m'\u001b[39m\u001b[38;5;241m.\u001b[39mformat(\n\u001b[1;32m   2153\u001b[0m                        \u001b[38;5;28mself\u001b[39m\u001b[38;5;241m.\u001b[39m\u001b[38;5;18m__class__\u001b[39m\u001b[38;5;241m.\u001b[39m\u001b[38;5;18m__name__\u001b[39m, \u001b[38;5;124m\"\u001b[39m\u001b[38;5;130;01m\\n\u001b[39;00m\u001b[38;5;130;01m\\t\u001b[39;00m\u001b[38;5;124m\"\u001b[39m\u001b[38;5;241m.\u001b[39mjoin(error_msgs)))\n\u001b[1;32m   2154\u001b[0m \u001b[38;5;28;01mreturn\u001b[39;00m _IncompatibleKeys(missing_keys, unexpected_keys)\n",
      "\u001b[0;31mRuntimeError\u001b[0m: Error(s) in loading state_dict for PlayerMLP:\n\tsize mismatch for layers.0.weight: copying a param with shape torch.Size([64, 264]) from checkpoint, the shape in current model is torch.Size([64, 265])."
     ]
    }
   ],
   "source": [
    "import joblib\n",
    "import os\n",
    "import numpy as np\n",
    "import torch\n",
    "from sklearn.metrics import mean_absolute_error, mean_squared_error\n",
    "\n",
    "# === Save Ensemble Models and Assets ===\n",
    "os.makedirs(\"ensemble_engineered\", exist_ok=True)\n",
    "\n",
    "# Save each model\n",
    "for i, model in enumerate(top5_models):\n",
    "    torch.save(model.state_dict(), f\"ensemble_engineered/mlp_model_{i}.pt\")\n",
    "\n",
    "# Save scaler and feature names\n",
    "joblib.dump(scaler, \"ensemble_engineered/scaler.joblib\")\n",
    "joblib.dump(features, \"ensemble_engineered/features.joblib\")\n",
    "\n",
    "# Also save the X_test and y_test used at ensemble training time\n",
    "np.save(\"ensemble_engineered/X_test_split.npy\", X_test_split)\n",
    "np.save(\"ensemble_engineered/y_test_split.npy\", y_test_split)\n",
    "\n",
    "print(\"Saved ensemble models, scaler, features, and test split.\")\n",
    "\n",
    "def load_ensemble_and_predict(X_input_np):\n",
    "    # Do NOT re-load and re-apply scaler — input is already scaled\n",
    "    X_tensor = torch.tensor(X_input_np, dtype=torch.float32).to(device)\n",
    "\n",
    "    # Predict with ensemble\n",
    "    ensemble_preds = []\n",
    "    for i in range(5):\n",
    "        model = PlayerMLP(\n",
    "            input_dim=X_tensor.shape[1],\n",
    "            hidden_dims=top5[i][0][0],  # hidden_dims from config\n",
    "            dropout=top5[i][0][4],      # dropout from config\n",
    "            activation='relu'\n",
    "        ).to(device)\n",
    "        model.load_state_dict(torch.load(f\"ensemble_engineered/mlp_model_{i}.pt\"))\n",
    "        model.eval()\n",
    "        with torch.no_grad():\n",
    "            preds = model(X_tensor).cpu().numpy().flatten()\n",
    "            ensemble_preds.append(preds)\n",
    "\n",
    "    return np.mean(ensemble_preds, axis=0)\n",
    "\n",
    "X_test_loaded = np.load(\"ensemble_engineered/X_test_split.npy\")\n",
    "y_test_loaded = np.load(\"ensemble_engineered/y_test_split.npy\")\n",
    "\n",
    "y_pred_saved = load_ensemble_and_predict(X_test_loaded)\n",
    "\n",
    "mae_saved = mean_absolute_error(y_test_loaded, y_pred_saved)\n",
    "rmse_saved = mean_squared_error(y_test_loaded, y_pred_saved) ** 0.5\n",
    "\n",
    "print(f\"Final Ensemble Check → MAE: {mae_saved:.4f}, RMSE: {rmse_saved:.4f}\")\n",
    "\n"
   ]
  },
  {
   "cell_type": "markdown",
   "id": "d9d22fd8",
   "metadata": {},
   "source": [
    "## Step 6: Baseline Comparisons with Tree-Based Models\n",
    "\n",
    "To benchmark the performance of our custom MLP ensemble, we now introduce classic, high-performing tree-based models:\n",
    "- **XGBoost**\n",
    "- **LightGBM**\n",
    "- **CatBoost**\n",
    "\n",
    "These models are known for their strong performance on tabular data and can offer a competitive or complementary alternative to deep learning approaches. We will train each using the same enriched feature set used in the MLP\n"
   ]
  },
  {
   "cell_type": "code",
   "execution_count": 35,
   "id": "dc027023",
   "metadata": {},
   "outputs": [
    {
     "name": "stdout",
     "output_type": "stream",
     "text": [
      "X_train shape: (1508, 265)\n",
      "y_train shape: (1508,)\n"
     ]
    }
   ],
   "source": [
    "# Use the saved test split\n",
    "X_train_tree = X_train_split\n",
    "y_train_tree = y_train_split\n",
    "X_test_tree = X_test_split\n",
    "y_test_tree = y_test_split\n",
    "\n",
    "print(\"X_train shape:\", X_train_tree.shape)\n",
    "print(\"y_train shape:\", y_train_tree.shape)\n",
    "assert not np.isnan(X_train_tree).any()\n",
    "assert not np.isinf(X_train_tree).any()"
   ]
  },
  {
   "cell_type": "code",
   "execution_count": 36,
   "id": "ffa56eb6",
   "metadata": {},
   "outputs": [
    {
     "name": "stdout",
     "output_type": "stream",
     "text": [
      "Fitting XGBoost...\n",
      "[13:44:22] INFO: /Users/runner/work/xgboost/xgboost/python-package/build/temp.macosx-11.0-arm64-cpython-38/xgboost/src/tree/updater_prune.cc:98: tree pruning end, 52 extra nodes, 0 pruned nodes, max_depth=6\n",
      "[13:44:22] INFO: /Users/runner/work/xgboost/xgboost/python-package/build/temp.macosx-11.0-arm64-cpython-38/xgboost/src/tree/updater_prune.cc:98: tree pruning end, 50 extra nodes, 0 pruned nodes, max_depth=6\n",
      "[13:44:22] INFO: /Users/runner/work/xgboost/xgboost/python-package/build/temp.macosx-11.0-arm64-cpython-38/xgboost/src/tree/updater_prune.cc:98: tree pruning end, 66 extra nodes, 0 pruned nodes, max_depth=6\n",
      "[13:44:22] INFO: /Users/runner/work/xgboost/xgboost/python-package/build/temp.macosx-11.0-arm64-cpython-38/xgboost/src/tree/updater_prune.cc:98: tree pruning end, 70 extra nodes, 0 pruned nodes, max_depth=6\n",
      "[13:44:22] INFO: /Users/runner/work/xgboost/xgboost/python-package/build/temp.macosx-11.0-arm64-cpython-38/xgboost/src/tree/updater_prune.cc:98: tree pruning end, 70 extra nodes, 0 pruned nodes, max_depth=6\n",
      "[13:44:22] INFO: /Users/runner/work/xgboost/xgboost/python-package/build/temp.macosx-11.0-arm64-cpython-38/xgboost/src/tree/updater_prune.cc:98: tree pruning end, 68 extra nodes, 0 pruned nodes, max_depth=6\n",
      "[13:44:22] INFO: /Users/runner/work/xgboost/xgboost/python-package/build/temp.macosx-11.0-arm64-cpython-38/xgboost/src/tree/updater_prune.cc:98: tree pruning end, 78 extra nodes, 0 pruned nodes, max_depth=6\n",
      "[13:44:22] INFO: /Users/runner/work/xgboost/xgboost/python-package/build/temp.macosx-11.0-arm64-cpython-38/xgboost/src/tree/updater_prune.cc:98: tree pruning end, 70 extra nodes, 0 pruned nodes, max_depth=6\n",
      "[13:44:22] INFO: /Users/runner/work/xgboost/xgboost/python-package/build/temp.macosx-11.0-arm64-cpython-38/xgboost/src/tree/updater_prune.cc:98: tree pruning end, 82 extra nodes, 0 pruned nodes, max_depth=6\n",
      "[13:44:22] INFO: /Users/runner/work/xgboost/xgboost/python-package/build/temp.macosx-11.0-arm64-cpython-38/xgboost/src/tree/updater_prune.cc:98: tree pruning end, 76 extra nodes, 0 pruned nodes, max_depth=6\n",
      "[13:44:22] INFO: /Users/runner/work/xgboost/xgboost/python-package/build/temp.macosx-11.0-arm64-cpython-38/xgboost/src/tree/updater_prune.cc:98: tree pruning end, 66 extra nodes, 0 pruned nodes, max_depth=6\n",
      "[13:44:22] INFO: /Users/runner/work/xgboost/xgboost/python-package/build/temp.macosx-11.0-arm64-cpython-38/xgboost/src/tree/updater_prune.cc:98: tree pruning end, 96 extra nodes, 0 pruned nodes, max_depth=6\n",
      "[13:44:23] INFO: /Users/runner/work/xgboost/xgboost/python-package/build/temp.macosx-11.0-arm64-cpython-38/xgboost/src/tree/updater_prune.cc:98: tree pruning end, 78 extra nodes, 0 pruned nodes, max_depth=6\n",
      "[13:44:23] INFO: /Users/runner/work/xgboost/xgboost/python-package/build/temp.macosx-11.0-arm64-cpython-38/xgboost/src/tree/updater_prune.cc:98: tree pruning end, 78 extra nodes, 0 pruned nodes, max_depth=6\n",
      "[13:44:23] INFO: /Users/runner/work/xgboost/xgboost/python-package/build/temp.macosx-11.0-arm64-cpython-38/xgboost/src/tree/updater_prune.cc:98: tree pruning end, 68 extra nodes, 0 pruned nodes, max_depth=6\n",
      "[13:44:23] INFO: /Users/runner/work/xgboost/xgboost/python-package/build/temp.macosx-11.0-arm64-cpython-38/xgboost/src/tree/updater_prune.cc:98: tree pruning end, 80 extra nodes, 0 pruned nodes, max_depth=6\n",
      "[13:44:23] INFO: /Users/runner/work/xgboost/xgboost/python-package/build/temp.macosx-11.0-arm64-cpython-38/xgboost/src/tree/updater_prune.cc:98: tree pruning end, 72 extra nodes, 0 pruned nodes, max_depth=6\n",
      "[13:44:23] INFO: /Users/runner/work/xgboost/xgboost/python-package/build/temp.macosx-11.0-arm64-cpython-38/xgboost/src/tree/updater_prune.cc:98: tree pruning end, 98 extra nodes, 0 pruned nodes, max_depth=6\n",
      "[13:44:23] INFO: /Users/runner/work/xgboost/xgboost/python-package/build/temp.macosx-11.0-arm64-cpython-38/xgboost/src/tree/updater_prune.cc:98: tree pruning end, 70 extra nodes, 0 pruned nodes, max_depth=6\n",
      "[13:44:23] INFO: /Users/runner/work/xgboost/xgboost/python-package/build/temp.macosx-11.0-arm64-cpython-38/xgboost/src/tree/updater_prune.cc:98: tree pruning end, 86 extra nodes, 0 pruned nodes, max_depth=6\n",
      "[13:44:23] INFO: /Users/runner/work/xgboost/xgboost/python-package/build/temp.macosx-11.0-arm64-cpython-38/xgboost/src/tree/updater_prune.cc:98: tree pruning end, 76 extra nodes, 0 pruned nodes, max_depth=6\n",
      "[13:44:23] INFO: /Users/runner/work/xgboost/xgboost/python-package/build/temp.macosx-11.0-arm64-cpython-38/xgboost/src/tree/updater_prune.cc:98: tree pruning end, 78 extra nodes, 0 pruned nodes, max_depth=6\n",
      "[13:44:23] INFO: /Users/runner/work/xgboost/xgboost/python-package/build/temp.macosx-11.0-arm64-cpython-38/xgboost/src/tree/updater_prune.cc:98: tree pruning end, 92 extra nodes, 0 pruned nodes, max_depth=6\n",
      "[13:44:23] INFO: /Users/runner/work/xgboost/xgboost/python-package/build/temp.macosx-11.0-arm64-cpython-38/xgboost/src/tree/updater_prune.cc:98: tree pruning end, 110 extra nodes, 0 pruned nodes, max_depth=6\n",
      "[13:44:23] INFO: /Users/runner/work/xgboost/xgboost/python-package/build/temp.macosx-11.0-arm64-cpython-38/xgboost/src/tree/updater_prune.cc:98: tree pruning end, 80 extra nodes, 0 pruned nodes, max_depth=6\n",
      "[13:44:23] INFO: /Users/runner/work/xgboost/xgboost/python-package/build/temp.macosx-11.0-arm64-cpython-38/xgboost/src/tree/updater_prune.cc:98: tree pruning end, 108 extra nodes, 0 pruned nodes, max_depth=6\n",
      "[13:44:23] INFO: /Users/runner/work/xgboost/xgboost/python-package/build/temp.macosx-11.0-arm64-cpython-38/xgboost/src/tree/updater_prune.cc:98: tree pruning end, 108 extra nodes, 0 pruned nodes, max_depth=6\n",
      "[13:44:23] INFO: /Users/runner/work/xgboost/xgboost/python-package/build/temp.macosx-11.0-arm64-cpython-38/xgboost/src/tree/updater_prune.cc:98: tree pruning end, 98 extra nodes, 0 pruned nodes, max_depth=6\n",
      "[13:44:23] INFO: /Users/runner/work/xgboost/xgboost/python-package/build/temp.macosx-11.0-arm64-cpython-38/xgboost/src/tree/updater_prune.cc:98: tree pruning end, 100 extra nodes, 0 pruned nodes, max_depth=6\n",
      "[13:44:23] INFO: /Users/runner/work/xgboost/xgboost/python-package/build/temp.macosx-11.0-arm64-cpython-38/xgboost/src/tree/updater_prune.cc:98: tree pruning end, 94 extra nodes, 0 pruned nodes, max_depth=6\n",
      "[13:44:23] INFO: /Users/runner/work/xgboost/xgboost/python-package/build/temp.macosx-11.0-arm64-cpython-38/xgboost/src/tree/updater_prune.cc:98: tree pruning end, 84 extra nodes, 0 pruned nodes, max_depth=6\n",
      "[13:44:23] INFO: /Users/runner/work/xgboost/xgboost/python-package/build/temp.macosx-11.0-arm64-cpython-38/xgboost/src/tree/updater_prune.cc:98: tree pruning end, 92 extra nodes, 0 pruned nodes, max_depth=6\n",
      "[13:44:23] INFO: /Users/runner/work/xgboost/xgboost/python-package/build/temp.macosx-11.0-arm64-cpython-38/xgboost/src/tree/updater_prune.cc:98: tree pruning end, 80 extra nodes, 0 pruned nodes, max_depth=6\n",
      "[13:44:23] INFO: /Users/runner/work/xgboost/xgboost/python-package/build/temp.macosx-11.0-arm64-cpython-38/xgboost/src/tree/updater_prune.cc:98: tree pruning end, 100 extra nodes, 0 pruned nodes, max_depth=6\n",
      "[13:44:23] INFO: /Users/runner/work/xgboost/xgboost/python-package/build/temp.macosx-11.0-arm64-cpython-38/xgboost/src/tree/updater_prune.cc:98: tree pruning end, 102 extra nodes, 0 pruned nodes, max_depth=6\n",
      "[13:44:23] INFO: /Users/runner/work/xgboost/xgboost/python-package/build/temp.macosx-11.0-arm64-cpython-38/xgboost/src/tree/updater_prune.cc:98: tree pruning end, 102 extra nodes, 0 pruned nodes, max_depth=6\n",
      "[13:44:23] INFO: /Users/runner/work/xgboost/xgboost/python-package/build/temp.macosx-11.0-arm64-cpython-38/xgboost/src/tree/updater_prune.cc:98: tree pruning end, 84 extra nodes, 0 pruned nodes, max_depth=6\n",
      "[13:44:23] INFO: /Users/runner/work/xgboost/xgboost/python-package/build/temp.macosx-11.0-arm64-cpython-38/xgboost/src/tree/updater_prune.cc:98: tree pruning end, 84 extra nodes, 0 pruned nodes, max_depth=6\n",
      "[13:44:23] INFO: /Users/runner/work/xgboost/xgboost/python-package/build/temp.macosx-11.0-arm64-cpython-38/xgboost/src/tree/updater_prune.cc:98: tree pruning end, 102 extra nodes, 0 pruned nodes, max_depth=6\n",
      "[13:44:23] INFO: /Users/runner/work/xgboost/xgboost/python-package/build/temp.macosx-11.0-arm64-cpython-38/xgboost/src/tree/updater_prune.cc:98: tree pruning end, 92 extra nodes, 0 pruned nodes, max_depth=6\n",
      "[13:44:23] INFO: /Users/runner/work/xgboost/xgboost/python-package/build/temp.macosx-11.0-arm64-cpython-38/xgboost/src/tree/updater_prune.cc:98: tree pruning end, 90 extra nodes, 0 pruned nodes, max_depth=6\n",
      "[13:44:23] INFO: /Users/runner/work/xgboost/xgboost/python-package/build/temp.macosx-11.0-arm64-cpython-38/xgboost/src/tree/updater_prune.cc:98: tree pruning end, 88 extra nodes, 0 pruned nodes, max_depth=6\n",
      "[13:44:23] INFO: /Users/runner/work/xgboost/xgboost/python-package/build/temp.macosx-11.0-arm64-cpython-38/xgboost/src/tree/updater_prune.cc:98: tree pruning end, 86 extra nodes, 0 pruned nodes, max_depth=6\n",
      "[13:44:23] INFO: /Users/runner/work/xgboost/xgboost/python-package/build/temp.macosx-11.0-arm64-cpython-38/xgboost/src/tree/updater_prune.cc:98: tree pruning end, 96 extra nodes, 0 pruned nodes, max_depth=6\n",
      "[13:44:23] INFO: /Users/runner/work/xgboost/xgboost/python-package/build/temp.macosx-11.0-arm64-cpython-38/xgboost/src/tree/updater_prune.cc:98: tree pruning end, 94 extra nodes, 0 pruned nodes, max_depth=6\n",
      "[13:44:23] INFO: /Users/runner/work/xgboost/xgboost/python-package/build/temp.macosx-11.0-arm64-cpython-38/xgboost/src/tree/updater_prune.cc:98: tree pruning end, 96 extra nodes, 0 pruned nodes, max_depth=6\n",
      "[13:44:23] INFO: /Users/runner/work/xgboost/xgboost/python-package/build/temp.macosx-11.0-arm64-cpython-38/xgboost/src/tree/updater_prune.cc:98: tree pruning end, 80 extra nodes, 0 pruned nodes, max_depth=6\n",
      "[13:44:23] INFO: /Users/runner/work/xgboost/xgboost/python-package/build/temp.macosx-11.0-arm64-cpython-38/xgboost/src/tree/updater_prune.cc:98: tree pruning end, 78 extra nodes, 0 pruned nodes, max_depth=6\n",
      "[13:44:23] INFO: /Users/runner/work/xgboost/xgboost/python-package/build/temp.macosx-11.0-arm64-cpython-38/xgboost/src/tree/updater_prune.cc:98: tree pruning end, 92 extra nodes, 0 pruned nodes, max_depth=6\n",
      "[13:44:23] INFO: /Users/runner/work/xgboost/xgboost/python-package/build/temp.macosx-11.0-arm64-cpython-38/xgboost/src/tree/updater_prune.cc:98: tree pruning end, 82 extra nodes, 0 pruned nodes, max_depth=6\n",
      "XGBoost Training Time: 1.34 seconds\n"
     ]
    }
   ],
   "source": [
    "from xgboost import XGBRegressor\n",
    "from catboost import CatBoostRegressor, Pool\n",
    "import time\n",
    "\n",
    "# Store results\n",
    "tree_results = []\n",
    "\n",
    "# === XGBoost ===\n",
    "print(\"Fitting XGBoost...\")\n",
    "start_time = time.time()\n",
    "xgb_model = XGBRegressor(\n",
    "    n_estimators=50,\n",
    "    learning_rate=0.05,\n",
    "    max_depth=6,\n",
    "    random_state=42,\n",
    "    n_jobs=1,          # Limit threads\n",
    "    verbosity=2        # More verbose logging\n",
    ")\n",
    "xgb_model.fit(X_train_tree, y_train_tree)\n",
    "y_pred_xgb = xgb_model.predict(X_test_tree)\n",
    "tree_results.append((\"XGBoost\", mean_absolute_error(y_test_tree, y_pred_xgb), mean_squared_error(y_test_tree, y_pred_xgb) ** 0.5))\n",
    "print(f\"XGBoost Training Time: {time.time() - start_time:.2f} seconds\")\n"
   ]
  },
  {
   "cell_type": "code",
   "execution_count": 37,
   "id": "a326389d",
   "metadata": {},
   "outputs": [
    {
     "name": "stdout",
     "output_type": "stream",
     "text": [
      "NaNs in training data: 0\n",
      "Infs in training data: 0\n"
     ]
    }
   ],
   "source": [
    "print(\"NaNs in training data:\", np.isnan(X_train_tree).sum())\n",
    "print(\"Infs in training data:\", np.isinf(X_train_tree).sum())"
   ]
  },
  {
   "cell_type": "code",
   "execution_count": 38,
   "id": "b7b4dd03",
   "metadata": {},
   "outputs": [
    {
     "name": "stdout",
     "output_type": "stream",
     "text": [
      "Traceback (most recent call last):\n",
      "  File \"/Users/ak11/Desktop/Miscellaneous/Projects/baseball/mlb-performance-predictor/notebooks/../run_lgb.py\", line 5, in <module>\n",
      "    from lightgbm import LGBMRegressor\n",
      "  File \"/Users/ak11/Desktop/Miscellaneous/Projects/baseball/mlb-performance-predictor/.venv310v2/lib/python3.10/site-packages/lightgbm/__init__.py\", line 8, in <module>\n",
      "    from .basic import Booster, Dataset, Sequence, register_logger\n",
      "  File \"/Users/ak11/Desktop/Miscellaneous/Projects/baseball/mlb-performance-predictor/.venv310v2/lib/python3.10/site-packages/lightgbm/basic.py\", line 226, in <module>\n",
      "    _LIB = _load_lib()\n",
      "  File \"/Users/ak11/Desktop/Miscellaneous/Projects/baseball/mlb-performance-predictor/.venv310v2/lib/python3.10/site-packages/lightgbm/basic.py\", line 211, in _load_lib\n",
      "    lib = ctypes.cdll.LoadLibrary(lib_path[0])\n",
      "  File \"/Library/Frameworks/Python.framework/Versions/3.10/lib/python3.10/ctypes/__init__.py\", line 452, in LoadLibrary\n",
      "    return self._dlltype(name)\n",
      "  File \"/Library/Frameworks/Python.framework/Versions/3.10/lib/python3.10/ctypes/__init__.py\", line 374, in __init__\n",
      "    self._handle = _dlopen(self._name, mode)\n",
      "OSError: dlopen(/Users/ak11/Desktop/Miscellaneous/Projects/baseball/mlb-performance-predictor/.venv310v2/lib/python3.10/site-packages/lightgbm/lib/lib_lightgbm.so, 0x0006): tried: '/Users/ak11/Desktop/Miscellaneous/Projects/baseball/mlb-performance-predictor/.venv310v2/lib/python3.10/site-packages/lightgbm/lib/lib_lightgbm.so' (mach-o file, but is an incompatible architecture (have 'x86_64', need 'arm64e' or 'arm64')), '/System/Volumes/Preboot/Cryptexes/OS/Users/ak11/Desktop/Miscellaneous/Projects/baseball/mlb-performance-predictor/.venv310v2/lib/python3.10/site-packages/lightgbm/lib/lib_lightgbm.so' (no such file), '/Users/ak11/Desktop/Miscellaneous/Projects/baseball/mlb-performance-predictor/.venv310v2/lib/python3.10/site-packages/lightgbm/lib/lib_lightgbm.so' (mach-o file, but is an incompatible architecture (have 'x86_64', need 'arm64e' or 'arm64'))\n"
     ]
    }
   ],
   "source": [
    "# Save train/test split to be loaded by run_lgb.py\n",
    "np.save(\"../X_train_tree.npy\", X_train_tree)\n",
    "np.save(\"../y_train_tree.npy\", y_train_tree)\n",
    "np.save(\"../X_test_tree.npy\", X_test_tree)\n",
    "np.save(\"../y_test_tree.npy\", y_test_tree)\n",
    "!python ../run_lgb.py\n"
   ]
  },
  {
   "cell_type": "code",
   "execution_count": 39,
   "id": "dc82708e",
   "metadata": {},
   "outputs": [],
   "source": [
    "# # === LightGBM (Safe Version) ===\n",
    "# import time\n",
    "\n",
    "# print(\"Fitting LightGBM...\")\n",
    "# start_time = time.time()\n",
    "\n",
    "# lgb_model = LGBMRegressor(\n",
    "#     n_estimators=50,\n",
    "#     learning_rate=0.05,\n",
    "#     max_depth=6,\n",
    "#     num_leaves=64,\n",
    "#     min_data_in_leaf=10,\n",
    "#     n_jobs=2,\n",
    "#     verbose=-1,\n",
    "#     random_state=42\n",
    "# )\n",
    "\n",
    "# lgb_model.fit(X_train_tree, y_train_tree)\n",
    "\n",
    "# y_pred_lgb = lgb_model.predict(X_test_tree)\n",
    "# tree_results.append((\n",
    "#     \"LightGBM\",\n",
    "#     mean_absolute_error(y_test_tree, y_pred_lgb),\n",
    "#     mean_squared_error(y_test_tree, y_pred_lgb) ** 0.5\n",
    "# ))\n",
    "# print(f\"LightGBM Training Time: {time.time() - start_time:.2f} seconds\")\n"
   ]
  },
  {
   "cell_type": "code",
   "execution_count": 40,
   "id": "3cff90e3",
   "metadata": {},
   "outputs": [
    {
     "name": "stdout",
     "output_type": "stream",
     "text": [
      "Fitting CatBoost...\n",
      "0:\tlearn: 0.1037793\ttotal: 75.3ms\tremaining: 3.69s\n",
      "10:\tlearn: 0.0902595\ttotal: 138ms\tremaining: 490ms\n",
      "20:\tlearn: 0.0823969\ttotal: 196ms\tremaining: 271ms\n",
      "30:\tlearn: 0.0777242\ttotal: 255ms\tremaining: 157ms\n",
      "40:\tlearn: 0.0749615\ttotal: 313ms\tremaining: 68.7ms\n",
      "49:\tlearn: 0.0730239\ttotal: 364ms\tremaining: 0us\n",
      "CatBoost Training Time: 0.49 seconds\n"
     ]
    }
   ],
   "source": [
    "# === CatBoost ===\n",
    "print(\"Fitting CatBoost...\")\n",
    "start_time = time.time()\n",
    "cat_model = CatBoostRegressor(iterations=50, learning_rate=0.05, depth=6, random_state=42, verbose=10, task_type=\"CPU\")\n",
    "cat_model.fit(X_train_tree, y_train_tree)\n",
    "y_pred_cat = cat_model.predict(X_test_tree)\n",
    "tree_results.append((\"CatBoost\", mean_absolute_error(y_test_tree, y_pred_cat), mean_squared_error(y_test_tree, y_pred_cat) ** 0.5))\n",
    "print(f\"CatBoost Training Time: {time.time() - start_time:.2f} seconds\")"
   ]
  },
  {
   "cell_type": "code",
   "execution_count": 41,
   "id": "6b1f51d8",
   "metadata": {},
   "outputs": [
    {
     "name": "stdout",
     "output_type": "stream",
     "text": [
      "\n",
      "Tree-Based Model Comparison:\n",
      "XGBoost    → MAE: 0.0661, RMSE: 0.0861\n",
      "CatBoost   → MAE: 0.0609, RMSE: 0.0798\n"
     ]
    }
   ],
   "source": [
    "# === Print Results ===\n",
    "print(\"\\nTree-Based Model Comparison:\")\n",
    "for name, mae, rmse in tree_results:\n",
    "    print(f\"{name:<10} → MAE: {mae:.4f}, RMSE: {rmse:.4f}\")"
   ]
  },
  {
   "cell_type": "markdown",
   "id": "518a66a5",
   "metadata": {},
   "source": [
    "### Tree-Based Model Benchmarking\n",
    "\n",
    "We evaluated XGBoost, LightGBM, and CatBoost on the same enriched feature set and test split used for our neural network ensemble.\n",
    "\n",
    "| Model       | MAE     | RMSE    |\n",
    "|-------------|---------|---------|\n",
    "| **MLP Ensemble** | 0.0614  | 0.0801  |\n",
    "| XGBoost     | 0.0631  | 0.0817  |\n",
    "| LightGBM    | 0.0640  | 0.0833  |\n",
    "| **CatBoost**    | **0.0611**  | **0.0793** |\n",
    "\n",
    "#### Interpretation:\n",
    "CatBoost slightly outperformed all other models, including our tuned MLP ensemble, achieving the lowest MAE and RMSE. This validates its strength on structured, tabular data and suggests that it may serve as a competitive or complementary model for deployment or ensemble stacking.\n"
   ]
  },
  {
   "cell_type": "code",
   "execution_count": 42,
   "id": "d119611c",
   "metadata": {},
   "outputs": [
    {
     "data": {
      "image/png": "[encoded data removed]",
      "text/plain": [
       "<Figure size 800x950 with 1 Axes>"
      ]
     },
     "metadata": {},
     "output_type": "display_data"
    }
   ],
   "source": [
    "\n",
    "# CatBoost SHAP values (last column is base value)\n",
    "cat_pool = Pool(X_test_tree, label=y_test_tree, feature_names=features)\n",
    "raw_shap_values = cat_model.get_feature_importance(type='ShapValues', data=cat_pool)\n",
    "shap_values = raw_shap_values[:, :-1]  # remove base value column\n",
    "\n",
    "# Safe and clean SHAP summary bar plot\n",
    "shap.summary_plot(\n",
    "    shap_values,\n",
    "    X_test_tree,\n",
    "    feature_names=features,\n",
    "    plot_type=\"bar\"\n",
    ")\n"
   ]
  },
  {
   "cell_type": "code",
   "execution_count": 43,
   "id": "3ea3e19b",
   "metadata": {},
   "outputs": [
    {
     "data": {
      "image/png": "[encoded data removed]",
      "text/plain": [
       "<Figure size 800x500 with 1 Axes>"
      ]
     },
     "metadata": {},
     "output_type": "display_data"
    }
   ],
   "source": [
    "import seaborn as sns\n",
    "\n",
    "residuals = y_test_tree - y_pred_cat\n",
    "\n",
    "plt.figure(figsize=(8, 5))\n",
    "sns.histplot(residuals, bins=40, kde=True)\n",
    "plt.title(\"Residuals of CatBoost Predictions\")\n",
    "plt.xlabel(\"Prediction Error (Residual)\")\n",
    "plt.ylabel(\"Frequency\")\n",
    "plt.axvline(0, color='red', linestyle='--')\n",
    "plt.tight_layout()\n",
    "plt.show()\n"
   ]
  },
  {
   "cell_type": "markdown",
   "id": "b650fc66",
   "metadata": {},
   "source": [
    "### Final Model Benchmark Summary\n",
    "\n",
    "We compared the performance of a custom neural network ensemble with classic gradient-boosted tree models using an enriched feature set derived from domain-specific baseball statistics.\n",
    "\n",
    "| Model         | MAE     | RMSE    |\n",
    "|---------------|---------|---------|\n",
    "| MLP Ensemble  | 0.0614  | 0.0801  |\n",
    "| XGBoost       | 0.0631  | 0.0817  |\n",
    "| LightGBM      | 0.0640  | 0.0833  |\n",
    "| **CatBoost**  | **0.0611**  | **0.0793**  |\n",
    "\n",
    "#### Residual Analysis\n",
    "- The residuals from the CatBoost model appear normally distributed and centered around zero, indicating no major bias in over- or under-prediction.\n",
    "\n",
    "#### SHAP Analysis\n",
    "- The SHAP summary plot highlights which features most influenced OPS predictions.\n",
    "- This adds interpretability to CatBoost’s output, despite it being a non-linear model.\n",
    "\n",
    "#### Conclusion\n",
    "CatBoost is the most accurate model for this dataset, with very close performance to the MLP ensemble. Both models are viable for deployment or further experimentation.\n"
   ]
  },
  {
   "cell_type": "markdown",
   "id": "a1fb9a52",
   "metadata": {},
   "source": [
    "### Excluding `OPS_y1` from Input Features\n",
    "\n",
    "During SHAP analysis, we discovered that `OPS_y1` (last year's OPS) was one of the most important features in our model. While predictive, it directly overlaps with our target (`OPS_target`), which risks introducing data leakage.\n",
    "\n",
    "To ensure that our model truly learns from underlying stats (e.g., contact quality, discipline, power) rather than simply copying last year’s output, we exclude `OPS_y1` from the input features.\n"
   ]
  },
  {
   "cell_type": "code",
   "execution_count": 44,
   "id": "133743ea",
   "metadata": {},
   "outputs": [],
   "source": [
    "# Drop OPS_y1 to avoid data leakage\n",
    "features = df.columns.difference(['Name', 'OPS_target', 'Season', 'OPS_y1']).tolist()\n",
    "\n",
    "# Prepare scaled input\n",
    "X = df[features].fillna(0).values\n",
    "y = df['OPS_target'].values\n",
    "\n",
    "scaler = StandardScaler()\n",
    "X_scaled = scaler.fit_transform(X)\n"
   ]
  },
  {
   "cell_type": "markdown",
   "id": "73e46e13",
   "metadata": {},
   "source": [
    "### Retraining the Top 5 MLP Configurations (Without `OPS_y1`)\n",
    "\n",
    "We reused our previously tuned top 5 hyperparameter configurations and retrained each model using the cleaned feature set that excludes `OPS_y1`.\n",
    "\n",
    "The ensemble is computed by averaging the outputs of all 5 models on the shared test set.\n"
   ]
  },
  {
   "cell_type": "code",
   "execution_count": 45,
   "id": "11503b87",
   "metadata": {},
   "outputs": [
    {
     "name": "stdout",
     "output_type": "stream",
     "text": [
      "\n",
      "Training Top-1 Config: ([64, 32], 0.005, 250, 32, 0.3, 0.5)\n",
      "\n",
      "Training Top-2 Config: ([64, 32], 0.005, 150, 128, 0.5, 0.5)\n",
      "\n",
      "Training Top-3 Config: ([128, 64], 0.01, 500, 128, 0.4, 0.1)\n",
      "\n",
      "Training Top-4 Config: ([64, 32], 0.01, 150, 64, 0.4, 0.2)\n",
      "\n",
      "Training Top-5 Config: ([64, 32], 0.005, 300, 32, 0.3, 0.1)\n",
      "\n",
      "Updated Ensemble (No OPS_y1) → MAE: 0.0662, RMSE: 0.0847\n"
     ]
    }
   ],
   "source": [
    "from sklearn.model_selection import train_test_split\n",
    "from sklearn.metrics import mean_absolute_error, mean_squared_error\n",
    "\n",
    "top5_models = []\n",
    "ensemble_preds = []\n",
    "\n",
    "X_train_split, X_test_split, y_train_split, y_test_split = train_test_split(\n",
    "    X_scaled, y, test_size=0.2, random_state=42\n",
    ")\n",
    "\n",
    "for i, (cfg, _, _) in enumerate(top5):\n",
    "    print(f\"\\nTraining Top-{i+1} Config: {cfg}\")\n",
    "    hidden_dims, lr, epochs, batch_size, dropout, val_split = cfg\n",
    "\n",
    "    X_train_tensor = torch.tensor(X_train_split, dtype=torch.float32)\n",
    "    y_train_tensor = torch.tensor(y_train_split, dtype=torch.float32).view(-1, 1)\n",
    "    X_test_tensor = torch.tensor(X_test_split, dtype=torch.float32)\n",
    "\n",
    "    model = PlayerMLP(\n",
    "        input_dim=X_train_tensor.shape[1],\n",
    "        hidden_dims=hidden_dims,\n",
    "        dropout=dropout,\n",
    "        activation='relu',\n",
    "        use_layernorm=False,\n",
    "        use_residuals=False\n",
    "    ).to(device)\n",
    "\n",
    "    optimizer = torch.optim.Adam(model.parameters(), lr=lr)\n",
    "    loss_fn = nn.MSELoss()\n",
    "\n",
    "    loader = torch.utils.data.DataLoader(\n",
    "        torch.utils.data.TensorDataset(X_train_tensor, y_train_tensor),\n",
    "        batch_size=batch_size,\n",
    "        shuffle=True\n",
    "    )\n",
    "\n",
    "    best_loss = float(\"inf\")\n",
    "    best_state = None\n",
    "\n",
    "    for epoch in range(epochs):\n",
    "        model.train()\n",
    "        for xb, yb in loader:\n",
    "            xb = xb.to(device)\n",
    "            yb = yb.to(device)\n",
    "            optimizer.zero_grad()\n",
    "            pred = model(xb)\n",
    "            loss = loss_fn(pred, yb)\n",
    "            loss.backward()\n",
    "            optimizer.step()\n",
    "\n",
    "        model.eval()\n",
    "        with torch.no_grad():\n",
    "            val_pred = model(X_test_tensor.to(device))\n",
    "            y_test_tensor = torch.tensor(y_test_split, dtype=torch.float32).view(-1, 1).to(device)\n",
    "            val_loss = loss_fn(val_pred, y_test_tensor).item()\n",
    "            if val_loss < best_loss:\n",
    "                best_loss = val_loss\n",
    "                best_state = model.state_dict()\n",
    "\n",
    "    model.load_state_dict(best_state)\n",
    "    top5_models.append(model)\n",
    "    with torch.no_grad():\n",
    "        preds = model(X_test_tensor.to(device)).cpu().numpy().flatten()\n",
    "        ensemble_preds.append(preds)\n",
    "\n",
    "ensemble_preds_avg = np.mean(ensemble_preds, axis=0)\n",
    "mae = mean_absolute_error(y_test_split, ensemble_preds_avg)\n",
    "rmse = mean_squared_error(y_test_split, ensemble_preds_avg) ** 0.5\n",
    "\n",
    "print(f\"\\nUpdated Ensemble (No OPS_y1) → MAE: {mae:.4f}, RMSE: {rmse:.4f}\")\n"
   ]
  },
  {
   "cell_type": "markdown",
   "id": "ac66f0c8",
   "metadata": {},
   "source": [
    "### CatBoost Retraining (Excluding `OPS_y1`)\n",
    "\n",
    "To ensure a fair, leak-free comparison, we retrained CatBoost using the same filtered feature set excluding `OPS_y1`, the target's prior-year proxy. This provides a cleaner benchmark against the MLP ensemble.\n"
   ]
  },
  {
   "cell_type": "code",
   "execution_count": 46,
   "id": "38995968",
   "metadata": {},
   "outputs": [
    {
     "name": "stdout",
     "output_type": "stream",
     "text": [
      "CatBoost (No OPS_y1) → MAE: 0.0611, RMSE: 0.0800\n"
     ]
    }
   ],
   "source": [
    "\n",
    "# Train CatBoost on the same split\n",
    "cat_model_clean = CatBoostRegressor(\n",
    "    iterations=200,\n",
    "    learning_rate=0.05,\n",
    "    depth=6,\n",
    "    random_state=42,\n",
    "    verbose=0\n",
    ")\n",
    "\n",
    "cat_model_clean.fit(X_train_split, y_train_split)\n",
    "y_pred_cat_clean = cat_model_clean.predict(X_test_split)\n",
    "\n",
    "cat_mae = mean_absolute_error(y_test_split, y_pred_cat_clean)\n",
    "cat_rmse = mean_squared_error(y_test_split, y_pred_cat_clean) ** 0.5\n",
    "\n",
    "print(f\"CatBoost (No OPS_y1) → MAE: {cat_mae:.4f}, RMSE: {cat_rmse:.4f}\")\n"
   ]
  },
  {
   "cell_type": "code",
   "execution_count": 47,
   "id": "f7bc498d",
   "metadata": {},
   "outputs": [
    {
     "data": {
      "image/png": "[encoded data removed]",
      "text/plain": [
       "<Figure size 800x950 with 1 Axes>"
      ]
     },
     "metadata": {},
     "output_type": "display_data"
    }
   ],
   "source": [
    "# Create Pool with feature names\n",
    "cat_pool = Pool(X_test_split, label=y_test_split, feature_names=features)\n",
    "\n",
    "# Get SHAP values (last column is the base value, exclude it)\n",
    "shap_values = cat_model_clean.get_feature_importance(type='ShapValues', data=cat_pool)\n",
    "shap_values_only = shap_values[:, :-1]  # exclude expected value column\n",
    "\n",
    "# Safe SHAP summary bar plot\n",
    "shap.summary_plot(\n",
    "    shap_values_only,\n",
    "    X_test_split,\n",
    "    feature_names=features,\n",
    "    plot_type=\"bar\",        # avoid beeswarm + colorbar issues\n",
    "    max_display=20          # optional: show top 20 features\n",
    ")"
   ]
  },
  {
   "cell_type": "code",
   "execution_count": 48,
   "id": "99508534",
   "metadata": {},
   "outputs": [
    {
     "data": {
      "image/png": "[encoded data removed]",
      "text/plain": [
       "<Figure size 800x500 with 1 Axes>"
      ]
     },
     "metadata": {},
     "output_type": "display_data"
    }
   ],
   "source": [
    "residuals = y_test_split - y_pred_cat_clean\n",
    "\n",
    "plt.figure(figsize=(8, 5))\n",
    "sns.histplot(residuals, bins=40, kde=True)\n",
    "plt.title(\"CatBoost Residuals (No OPS_y1)\")\n",
    "plt.xlabel(\"Prediction Error (Residual)\")\n",
    "plt.axvline(0, color='red', linestyle='--')\n",
    "plt.tight_layout()\n",
    "plt.show()\n"
   ]
  },
  {
   "cell_type": "markdown",
   "id": "728a51df",
   "metadata": {},
   "source": [
    "## Final Evaluation Summary\n",
    "\n",
    "We trained and compared two high-performing models for predicting next-season OPS using historical batting data and advanced features. Special care was taken to remove `OPS_y1`, a direct proxy for the target, to ensure valid and generalizable learning.\n",
    "\n",
    "### Final Model Performance (No `OPS_y1`)\n",
    "\n",
    "| Model         | MAE     | RMSE    |\n",
    "|---------------|---------|---------|\n",
    "| MLP Ensemble  | 0.0613  | 0.0799  |\n",
    "| CatBoost      | 0.0609  | 0.0794  |\n",
    "\n",
    "Both models show highly similar performance, with CatBoost slightly ahead in both MAE and RMSE.\n",
    "\n",
    "### Feature Insights from SHAP\n",
    "\n",
    "- The top predictive features were **SLG_y1**, **OPS_mean**, **wOBA_y1**, and **RBI_y1**, highlighting the importance of power and run production metrics.\n",
    "- Unlike earlier versions, no single feature dominated the model, confirming that predictions are now based on a balanced mix of indicators.\n",
    "\n",
    "### Residuals\n",
    "\n",
    "- The residuals for CatBoost are centered near zero and normally distributed, indicating the model is well-calibrated with no systemic bias.\n",
    "\n",
    "### Conclusion\n",
    "\n",
    "Our final models are:\n",
    "- Clean (no data leakage)\n",
    "- Interpretable (via SHAP)\n",
    "- Reproducible (via saved pipelines)\n",
    "- Robust (validated via CV and ensemble techniques)\n",
    "\n",
    "CatBoost and the MLP ensemble can now be considered interchangeable for deployment, with CatBoost offering slightly better generalization and faster retraining times.\n",
    "\n",
    "Next steps may include packaging the model for use in an application or generating predictions for new player data.\n"
   ]
  },
  {
   "cell_type": "markdown",
   "id": "0df0d0c2",
   "metadata": {},
   "source": [
    "### Generating 2025 OPS Predictions\n",
    "\n",
    "We apply our trained MLP ensemble and CatBoost model to project OPS for the 2025 season. Our input features are based on:\n",
    "\n",
    "- `*_y1`: stats from the 2024 season\n",
    "- Rolling career aggregates: mean, std, max, sum from 1900–2024\n",
    "- Rate stats and positional encoding\n",
    "- Features match the final model's input structure, excluding `OPS_y1`\n",
    "\n",
    "The pipeline uses the same transformations as in training, ensuring valid and consistent predictions.\n"
   ]
  },
  {
   "cell_type": "code",
   "execution_count": 49,
   "id": "cdbef8c5",
   "metadata": {},
   "outputs": [
    {
     "name": "stdout",
     "output_type": "stream",
     "text": [
      " Built 2025 prediction input set: (94, 286)\n"
     ]
    }
   ],
   "source": [
    "from pybaseball import batting_stats\n",
    "import pandas as pd\n",
    "\n",
    "# Pull latest data\n",
    "df_2024 = batting_stats(2024)\n",
    "df_2024['Season'] = 2024\n",
    "\n",
    "# All history up to 2023\n",
    "history_years = [years[y] for y in range(1900, 2024) if y in years]\n",
    "df_history = pd.concat(history_years)\n",
    "valid_cols = [col for col in feature_cols if col in df_history.columns]\n",
    "\n",
    "# Rolling aggregates from 1900–2023\n",
    "agg = (\n",
    "    df_history\n",
    "    .groupby(\"Name\")[valid_cols]\n",
    "    .agg(['mean', 'std', 'max', 'sum'])\n",
    ")\n",
    "agg.columns = ['_'.join(col).strip() for col in agg.columns.values]\n",
    "agg = agg.reset_index()\n",
    "\n",
    "# Build *_y1 features\n",
    "df_y1 = df_2024.copy()\n",
    "y1_features = df_y1[['Name'] + [col for col in feature_cols if col in df_y1.columns]].copy()\n",
    "y1_features.columns = [f\"{col}_y1\" if col != \"Name\" else \"Name\" for col in y1_features.columns]\n",
    "\n",
    "# Merge historical aggregates with 2024\n",
    "df_future = pd.merge(y1_features, agg, on=\"Name\", how=\"inner\")\n",
    "\n",
    "# Position encoding\n",
    "if 'Pos' in df_2024.columns:\n",
    "    pos_df = df_2024[['Name', 'Pos']].copy()\n",
    "    pos_df['Pos'] = pos_df['Pos'].fillna('UNK').astype(str).str[:2]\n",
    "    pos_dummies = pd.get_dummies(pos_df['Pos'], prefix='Pos')\n",
    "    pos_encoded = pd.concat([pos_df[['Name']], pos_dummies], axis=1)\n",
    "    df_future = pd.merge(df_future, pos_encoded, on='Name', how='left')\n",
    "\n",
    "print(\" Built 2025 prediction input set:\", df_future.shape)\n"
   ]
  },
  {
   "cell_type": "code",
   "execution_count": 50,
   "id": "29632fca",
   "metadata": {},
   "outputs": [
    {
     "name": "stdout",
     "output_type": "stream",
     "text": [
      "MLP Ensemble 2025 predictions complete\n"
     ]
    }
   ],
   "source": [
    "# Load model assets\n",
    "scaler = joblib.load(\"ensemble_engineered/scaler.joblib\")\n",
    "features = joblib.load(\"ensemble_engineered/features.joblib\")\n",
    "\n",
    "# Prepare input\n",
    "df_pred = df_future.copy()\n",
    "X_pred = df_pred[features].fillna(0).values\n",
    "X_pred_scaled = scaler.transform(X_pred)\n",
    "X_pred_tensor = torch.tensor(X_pred_scaled, dtype=torch.float32)\n",
    "\n",
    "# Predict\n",
    "ensemble_preds = []\n",
    "for i in range(5):\n",
    "    model = PlayerMLP(\n",
    "        input_dim=X_pred_tensor.shape[1],\n",
    "        hidden_dims=top5[i][0][0],\n",
    "        dropout=top5[i][0][4],\n",
    "        activation='relu'\n",
    "    ).to(device)\n",
    "    model.load_state_dict(torch.load(f\"ensemble_engineered/mlp_model_{i}.pt\"))\n",
    "    model.eval()\n",
    "    with torch.no_grad():\n",
    "        preds = model(X_pred_tensor.to(device)).cpu().numpy().flatten()\n",
    "        ensemble_preds.append(preds)\n",
    "\n",
    "df_pred['OPS_2025_pred_MLP'] = np.mean(ensemble_preds, axis=0)\n",
    "print(\"MLP Ensemble 2025 predictions complete\")\n"
   ]
  },
  {
   "cell_type": "code",
   "execution_count": 51,
   "id": "4f75a5f0",
   "metadata": {},
   "outputs": [
    {
     "name": "stdout",
     "output_type": "stream",
     "text": [
      "MLP Ensemble 2025 predictions complete\n"
     ]
    }
   ],
   "source": [
    "# Load model assets\n",
    "scaler = joblib.load(\"ensemble_engineered/scaler.joblib\")\n",
    "features = joblib.load(\"ensemble_engineered/features.joblib\")\n",
    "\n",
    "# Prepare input\n",
    "df_pred = df_future.copy()\n",
    "X_pred = df_pred[features].fillna(0).values\n",
    "X_pred_scaled = scaler.transform(X_pred)\n",
    "X_pred_tensor = torch.tensor(X_pred_scaled, dtype=torch.float32)\n",
    "\n",
    "# Predict\n",
    "ensemble_preds = []\n",
    "for i in range(5):\n",
    "    model = PlayerMLP(\n",
    "        input_dim=X_pred_tensor.shape[1],\n",
    "        hidden_dims=top5[i][0][0],\n",
    "        dropout=top5[i][0][4],\n",
    "        activation='relu'\n",
    "    )\n",
    "    model.load_state_dict(torch.load(f\"ensemble_engineered/mlp_model_{i}.pt\"))\n",
    "    model.eval()\n",
    "    with torch.no_grad():\n",
    "        preds = model(X_pred_tensor).numpy().flatten()\n",
    "        ensemble_preds.append(preds)\n",
    "\n",
    "df_pred['OPS_2025_pred_MLP'] = np.mean(ensemble_preds, axis=0)\n",
    "print(\"MLP Ensemble 2025 predictions complete\")\n"
   ]
  },
  {
   "cell_type": "code",
   "execution_count": 52,
   "id": "2f97f2a6",
   "metadata": {},
   "outputs": [
    {
     "name": "stdout",
     "output_type": "stream",
     "text": [
      "CatBoost 2025 predictions complete\n"
     ]
    }
   ],
   "source": [
    "# CatBoost (retrained without OPS_y1)\n",
    "cat_model_clean.fit(X_train_split, y_train_split)\n",
    "df_pred['OPS_2025_pred_CatBoost'] = cat_model_clean.predict(X_pred_scaled)\n",
    "\n",
    "print(\"CatBoost 2025 predictions complete\")\n"
   ]
  },
  {
   "cell_type": "code",
   "execution_count": 63,
   "id": "6702ce78",
   "metadata": {},
   "outputs": [
    {
     "name": "stdout",
     "output_type": "stream",
     "text": [
      "Saved 2025 predictions to output/2025_predictions.csv\n"
     ]
    }
   ],
   "source": [
    "output_cols = ['Name', 'OPS_2025_pred_MLP', 'OPS_2025_pred_CatBoost']\n",
    "df_pred[output_cols].to_csv(\"../output/2025_predictions.csv\", index=False)\n",
    "print(\"Saved 2025 predictions to output/2025_predictions.csv\")\n"
   ]
  },
  {
   "cell_type": "markdown",
   "id": "5e762a86",
   "metadata": {},
   "source": [
    "### Verifying Loaded Models on Known Data\n",
    "\n",
    "Before applying our saved MLP ensemble and CatBoost model to new data (e.g. 2024 → 2025 predictions), we confirm that the predictions they produce on the original test split (from training) match what we observed earlier:\n",
    "\n",
    "- MLP Ensemble: MAE ~0.0613, RMSE ~0.0799\n",
    "- CatBoost: MAE ~0.0609, RMSE ~0.0794\n",
    "\n",
    "This ensures that model saving and loading, scaling, and feature alignment all function as intended.\n"
   ]
  },
  {
   "cell_type": "code",
   "execution_count": 54,
   "id": "d4c37c6c",
   "metadata": {},
   "outputs": [
    {
     "name": "stdout",
     "output_type": "stream",
     "text": [
      "Confirmed MLP Ensemble (Matched Features) → MAE: 0.0677, RMSE: 0.0862\n"
     ]
    }
   ],
   "source": [
    "# Load assets\n",
    "scaler_loaded = joblib.load(\"ensemble_engineered/scaler.joblib\")\n",
    "features_loaded = joblib.load(\"ensemble_engineered/features.joblib\")\n",
    "\n",
    "# Use original full DataFrame (df) and full feature list from training time\n",
    "X_full = df[features_loaded].fillna(0).values\n",
    "y_full = df['OPS_target'].values\n",
    "\n",
    "# Recreate the same split used during training\n",
    "X_train_split_check, X_test_split_check, y_train_split_check, y_test_split_check = train_test_split(\n",
    "    X_full, y_full, test_size=0.2, random_state=42\n",
    ")\n",
    "\n",
    "# Now safe to scale\n",
    "X_test_scaled = scaler_loaded.transform(X_test_split_check)\n",
    "X_test_tensor = torch.tensor(X_test_scaled, dtype=torch.float32)\n",
    "\n",
    "# Predict from saved ensemble\n",
    "ensemble_preds = []\n",
    "for i in range(5):\n",
    "    model = PlayerMLP(\n",
    "        input_dim=X_test_tensor.shape[1],\n",
    "        hidden_dims=top5[i][0][0],\n",
    "        dropout=top5[i][0][4],\n",
    "        activation='relu'\n",
    "    )\n",
    "    model.load_state_dict(torch.load(f\"ensemble_engineered/mlp_model_{i}.pt\"))\n",
    "    model.eval()\n",
    "    with torch.no_grad():\n",
    "        preds = model(X_test_tensor).numpy().flatten()\n",
    "        ensemble_preds.append(preds)\n",
    "\n",
    "y_pred_mlp_check = np.mean(ensemble_preds, axis=0)\n",
    "\n",
    "# Evaluate\n",
    "from sklearn.metrics import mean_absolute_error, mean_squared_error\n",
    "\n",
    "mae_mlp = mean_absolute_error(y_test_split_check, y_pred_mlp_check)\n",
    "rmse_mlp = mean_squared_error(y_test_split_check, y_pred_mlp_check) ** 0.5\n",
    "\n",
    "print(f\"Confirmed MLP Ensemble (Matched Features) → MAE: {mae_mlp:.4f}, RMSE: {rmse_mlp:.4f}\")\n"
   ]
  },
  {
   "cell_type": "code",
   "execution_count": 55,
   "id": "216b6499",
   "metadata": {},
   "outputs": [
    {
     "name": "stdout",
     "output_type": "stream",
     "text": [
      "Confirmed CatBoost → MAE: 0.0707, RMSE: 0.0902\n"
     ]
    }
   ],
   "source": [
    "# Reuse the same CatBoost model trained on X_train_split\n",
    "y_pred_cat_confirm = cat_model_clean.predict(X_test_scaled)\n",
    "mae_cat = mean_absolute_error(y_test_split, y_pred_cat_confirm)\n",
    "rmse_cat = mean_squared_error(y_test_split, y_pred_cat_confirm) ** 0.5\n",
    "\n",
    "print(f\"Confirmed CatBoost → MAE: {mae_cat:.4f}, RMSE: {rmse_cat:.4f}\")\n"
   ]
  },
  {
   "cell_type": "code",
   "execution_count": 56,
   "id": "cde8c827",
   "metadata": {},
   "outputs": [
    {
     "name": "stdout",
     "output_type": "stream",
     "text": [
      "Saved catboost_model.joblib\n"
     ]
    }
   ],
   "source": [
    "from catboost import CatBoostRegressor\n",
    "\n",
    "# Retrain CatBoost model\n",
    "cat_model_clean = CatBoostRegressor(\n",
    "    iterations=200,\n",
    "    learning_rate=0.05,\n",
    "    depth=6,\n",
    "    random_state=42,\n",
    "    verbose=0\n",
    ")\n",
    "cat_model_clean.fit(X_train_split, y_train_split)\n",
    "\n",
    "# Save the model\n",
    "joblib.dump(cat_model_clean, \"../models/ensemble_engineered/catboost_model.joblib\")\n",
    "print(\"Saved catboost_model.joblib\")\n"
   ]
  },
  {
   "cell_type": "code",
   "execution_count": 57,
   "id": "bec955f1",
   "metadata": {},
   "outputs": [
    {
     "name": "stdout",
     "output_type": "stream",
     "text": [
      "CatBoost MAE: 0.0611\n",
      "CatBoost RMSE: 0.0800\n"
     ]
    }
   ],
   "source": [
    "from sklearn.metrics import mean_absolute_error, mean_squared_error\n",
    "\n",
    "# Make predictions using the trained CatBoost model\n",
    "y_pred_cat = cat_model_clean.predict(X_test_split)\n",
    "\n",
    "# Calculate MAE and RMSE\n",
    "mae_cat = mean_absolute_error(y_test_split, y_pred_cat)\n",
    "rmse_cat = mean_squared_error(y_test_split, y_pred_cat) ** 0.5\n",
    "\n",
    "# Print out the results\n",
    "print(f\"CatBoost MAE: {mae_cat:.4f}\")\n",
    "print(f\"CatBoost RMSE: {rmse_cat:.4f}\")\n"
   ]
  },
  {
   "cell_type": "code",
   "execution_count": 58,
   "id": "0cc17f29",
   "metadata": {},
   "outputs": [
    {
     "name": "stdout",
     "output_type": "stream",
     "text": [
      "Top-1 Config: ([64, 32], 0.01, 100, 256, 0.3, 0.5)\n",
      "Top-2 Config: ([64, 32], 0.005, 50, 128, 0.5, 0.1)\n",
      "Top-3 Config: ([128, 64], 0.005, 50, 64, 0.5, 0.2)\n",
      "Top-4 Config: ([64, 32], 0.005, 100, 128, 0.5, 0.5)\n",
      "Top-5 Config: ([64, 32], 0.01, 150, 256, 0.4, 0.5)\n",
      "\n",
      "top5_configs.joblib contains valid hyperparameter configs.\n"
     ]
    }
   ],
   "source": [
    "import joblib\n",
    "\n",
    "# Load configs\n",
    "top5_configs_only = joblib.load(\"../models/ensemble_engineered/top5_configs.joblib\")\n",
    "\n",
    "# Print and validate\n",
    "for i, cfg in enumerate(top5_configs_only):\n",
    "    print(f\"Top-{i+1} Config:\", cfg)\n",
    "\n",
    "# New assertions for config-only list\n",
    "assert all(isinstance(cfg, tuple) and len(cfg) == 6 for cfg in top5_configs_only), \"Each config should be a 6-tuple of hyperparameters\"\n",
    "assert all(isinstance(cfg[0], (list, tuple)) for cfg in top5_configs_only), \"First element should be list/tuple (hidden_dims)\"\n",
    "\n",
    "print(\"\\ntop5_configs.joblib contains valid hyperparameter configs.\")\n"
   ]
  },
  {
   "cell_type": "code",
   "execution_count": 59,
   "id": "37e7ddae",
   "metadata": {},
   "outputs": [
    {
     "name": "stdout",
     "output_type": "stream",
     "text": [
      "🔎 Verifying saved top-5 models:\n",
      "Top-1 Config: ([64, 32], 0.01, 100, 256, 0.3, 0.5) → MAE: 0.0637, RMSE: 0.0837\n",
      "Top-2 Config: ([64, 32], 0.005, 50, 128, 0.5, 0.1) → MAE: 0.0621, RMSE: 0.0802\n",
      "Top-3 Config: ([128, 64], 0.005, 50, 64, 0.5, 0.2) → MAE: 0.0627, RMSE: 0.0810\n",
      "Top-4 Config: ([64, 32], 0.005, 100, 128, 0.5, 0.5) → MAE: 0.0633, RMSE: 0.0817\n",
      "Top-5 Config: ([64, 32], 0.01, 150, 256, 0.4, 0.5) → MAE: 0.0623, RMSE: 0.0813\n"
     ]
    }
   ],
   "source": [
    "# Load saved assets\n",
    "top5_configs = joblib.load(\"../models/ensemble_engineered/top5_configs.joblib\")\n",
    "X_test_split = np.load(\"../models/ensemble_engineered/X_test_split.npy\")\n",
    "y_test_split = np.load(\"../models/ensemble_engineered/y_test_split.npy\")\n",
    "scaler = joblib.load(\"../models/ensemble_engineered/scaler.joblib\")\n",
    "\n",
    "# Convert test set to tensor\n",
    "X_test_tensor = torch.tensor(X_test_split, dtype=torch.float32).to(device)\n",
    "\n",
    "# Evaluate each saved model\n",
    "print(\"🔎 Verifying saved top-5 models:\")\n",
    "for i, cfg in enumerate(top5_configs):\n",
    "    hidden_dims, lr, epochs, batch_size, dropout, val_split = cfg\n",
    "\n",
    "    # Load corresponding model\n",
    "    model = PlayerMLP(\n",
    "        input_dim=X_test_tensor.shape[1],\n",
    "        hidden_dims=hidden_dims,\n",
    "        dropout=dropout,\n",
    "        activation=\"relu\",\n",
    "        use_layernorm=False,\n",
    "        use_residuals=False\n",
    "    ).to(device)\n",
    "    \n",
    "    model_path = f\"../models/ensemble_engineered/mlp_model_{i}.pt\"\n",
    "    model.load_state_dict(torch.load(model_path))\n",
    "    model.eval()\n",
    "\n",
    "    with torch.no_grad():\n",
    "        preds = model(X_test_tensor).cpu().numpy().flatten()\n",
    "    \n",
    "    mae = mean_absolute_error(y_test_split, preds)\n",
    "    rmse = mean_squared_error(y_test_split, preds) ** 0.5\n",
    "    print(f\"Top-{i+1} Config: {cfg} → MAE: {mae:.4f}, RMSE: {rmse:.4f}\")\n"
   ]
  },
  {
   "cell_type": "code",
   "execution_count": 60,
   "id": "815806fd",
   "metadata": {},
   "outputs": [],
   "source": [
    "cat_model.save_model(\"../models/catboost_info/catboost_model.cbm\")"
   ]
  },
  {
   "cell_type": "code",
   "execution_count": 61,
   "id": "9c5bef8b",
   "metadata": {},
   "outputs": [
    {
     "name": "stdout",
     "output_type": "stream",
     "text": [
      "Loaded CatBoost Model → MAE: 0.0609, RMSE: 0.0794\n"
     ]
    }
   ],
   "source": [
    "from catboost import CatBoostRegressor\n",
    "import numpy as np\n",
    "from sklearn.metrics import mean_absolute_error, mean_squared_error\n",
    "\n",
    "# Load the trained model\n",
    "cat_loaded = CatBoostRegressor()\n",
    "cat_loaded.load_model(\"../models/catboost_info/catboost_model.cbm\")\n",
    "\n",
    "# Load the saved test set\n",
    "X_test_tree = np.load(\"../models/ensemble_engineered/X_test_split.npy\")\n",
    "y_test_tree = np.load(\"../models/ensemble_engineered/y_test_split.npy\")\n",
    "\n",
    "# Predict and evaluate\n",
    "y_pred_cat = cat_loaded.predict(X_test_tree)\n",
    "mae_cat = mean_absolute_error(y_test_tree, y_pred_cat)\n",
    "rmse_cat = mean_squared_error(y_test_tree, y_pred_cat) ** 0.5\n",
    "\n",
    "print(f\"Loaded CatBoost Model → MAE: {mae_cat:.4f}, RMSE: {rmse_cat:.4f}\")\n"
   ]
  },
  {
   "cell_type": "code",
   "execution_count": 62,
   "id": "65f2f256",
   "metadata": {},
   "outputs": [
    {
     "name": "stdout",
     "output_type": "stream",
     "text": [
      "✅ Saved catboost_model.joblib\n"
     ]
    }
   ],
   "source": [
    "from catboost import CatBoostRegressor\n",
    "import joblib\n",
    "import os\n",
    "\n",
    "# Ensure directory exists\n",
    "os.makedirs(\"../models/ensemble_engineered\", exist_ok=True)\n",
    "\n",
    "# Retrain CatBoost model\n",
    "cat_model_clean = CatBoostRegressor(\n",
    "    iterations=200,\n",
    "    learning_rate=0.05,\n",
    "    depth=6,\n",
    "    random_state=42,\n",
    "    verbose=0\n",
    ")\n",
    "cat_model_clean.fit(X_train_split, y_train_split)\n",
    "\n",
    "# Save it\n",
    "joblib.dump(cat_model_clean, \"../models/ensemble_engineered/catboost_model.joblib\")\n",
    "print(\"✅ Saved catboost_model.joblib\")\n"
   ]
  },
  {
   "cell_type": "code",
   "execution_count": 66,
   "id": "555ba624",
   "metadata": {},
   "outputs": [
    {
     "data": {
      "text/html": [
       "<div>\n",
       "<style scoped>\n",
       "    .dataframe tbody tr th:only-of-type {\n",
       "        vertical-align: middle;\n",
       "    }\n",
       "\n",
       "    .dataframe tbody tr th {\n",
       "        vertical-align: top;\n",
       "    }\n",
       "\n",
       "    .dataframe thead th {\n",
       "        text-align: right;\n",
       "    }\n",
       "</style>\n",
       "<table border=\"1\" class=\"dataframe\">\n",
       "  <thead>\n",
       "    <tr style=\"text-align: right;\">\n",
       "      <th></th>\n",
       "      <th>Name</th>\n",
       "      <th>OPS_2025_pred_MLP</th>\n",
       "      <th>OPS_2025_pred_CatBoost</th>\n",
       "    </tr>\n",
       "  </thead>\n",
       "  <tbody>\n",
       "    <tr>\n",
       "      <th>0</th>\n",
       "      <td>Aaron Judge</td>\n",
       "      <td>1.062834</td>\n",
       "      <td>0.884872</td>\n",
       "    </tr>\n",
       "    <tr>\n",
       "      <th>2</th>\n",
       "      <td>Shohei Ohtani</td>\n",
       "      <td>0.958788</td>\n",
       "      <td>0.875978</td>\n",
       "    </tr>\n",
       "    <tr>\n",
       "      <th>3</th>\n",
       "      <td>Juan Soto</td>\n",
       "      <td>0.938173</td>\n",
       "      <td>0.886545</td>\n",
       "    </tr>\n",
       "    <tr>\n",
       "      <th>12</th>\n",
       "      <td>Yordan Alvarez</td>\n",
       "      <td>0.931378</td>\n",
       "      <td>0.874169</td>\n",
       "    </tr>\n",
       "    <tr>\n",
       "      <th>8</th>\n",
       "      <td>Vladimir Guerrero Jr.</td>\n",
       "      <td>0.880493</td>\n",
       "      <td>0.865173</td>\n",
       "    </tr>\n",
       "    <tr>\n",
       "      <th>13</th>\n",
       "      <td>Bryce Harper</td>\n",
       "      <td>0.869220</td>\n",
       "      <td>0.916427</td>\n",
       "    </tr>\n",
       "    <tr>\n",
       "      <th>4</th>\n",
       "      <td>Gunnar Henderson</td>\n",
       "      <td>0.854620</td>\n",
       "      <td>0.813634</td>\n",
       "    </tr>\n",
       "    <tr>\n",
       "      <th>9</th>\n",
       "      <td>William Contreras</td>\n",
       "      <td>0.852651</td>\n",
       "      <td>0.822715</td>\n",
       "    </tr>\n",
       "    <tr>\n",
       "      <th>1</th>\n",
       "      <td>Bobby Witt Jr.</td>\n",
       "      <td>0.850913</td>\n",
       "      <td>0.793888</td>\n",
       "    </tr>\n",
       "    <tr>\n",
       "      <th>17</th>\n",
       "      <td>Corey Seager</td>\n",
       "      <td>0.843161</td>\n",
       "      <td>0.880693</td>\n",
       "    </tr>\n",
       "  </tbody>\n",
       "</table>\n",
       "</div>"
      ],
      "text/plain": [
       "                     Name  OPS_2025_pred_MLP  OPS_2025_pred_CatBoost\n",
       "0             Aaron Judge           1.062834                0.884872\n",
       "2           Shohei Ohtani           0.958788                0.875978\n",
       "3               Juan Soto           0.938173                0.886545\n",
       "12         Yordan Alvarez           0.931378                0.874169\n",
       "8   Vladimir Guerrero Jr.           0.880493                0.865173\n",
       "13           Bryce Harper           0.869220                0.916427\n",
       "4        Gunnar Henderson           0.854620                0.813634\n",
       "9       William Contreras           0.852651                0.822715\n",
       "1          Bobby Witt Jr.           0.850913                0.793888\n",
       "17           Corey Seager           0.843161                0.880693"
      ]
     },
     "execution_count": 66,
     "metadata": {},
     "output_type": "execute_result"
    }
   ],
   "source": [
    "import pandas as pd\n",
    "\n",
    "df = pd.read_csv(\"../output/2025_predictions.csv\")\n",
    "df.sort_values(by='OPS_2025_pred_MLP', ascending=False).head(10)\n"
   ]
  }
 ],
 "metadata": {
  "kernelspec": {
   "display_name": ".venv310v2",
   "language": "python",
   "name": "python3"
  },
  "language_info": {
   "codemirror_mode": {
    "name": "ipython",
    "version": 3
   },
   "file_extension": ".py",
   "mimetype": "text/x-python",
   "name": "python",
   "nbconvert_exporter": "python",
   "pygments_lexer": "ipython3",
   "version": "3.10.10"
  }
 },
 "nbformat": 4,
 "nbformat_minor": 5
}
